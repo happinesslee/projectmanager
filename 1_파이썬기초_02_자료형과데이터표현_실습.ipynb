{
  "cells": [
    {
      "cell_type": "markdown",
      "metadata": {
        "id": "view-in-github",
        "colab_type": "text"
      },
      "source": [
        "<a href=\"https://colab.research.google.com/github/happinesslee/projectmanager/blob/main/1_%ED%8C%8C%EC%9D%B4%EC%8D%AC%EA%B8%B0%EC%B4%88_02_%EC%9E%90%EB%A3%8C%ED%98%95%EA%B3%BC%EB%8D%B0%EC%9D%B4%ED%84%B0%ED%91%9C%ED%98%84_%EC%8B%A4%EC%8A%B5.ipynb\" target=\"_parent\"><img src=\"https://colab.research.google.com/assets/colab-badge.svg\" alt=\"Open In Colab\"/></a>"
      ]
    },
    {
      "cell_type": "markdown",
      "id": "8daf7079",
      "metadata": {
        "id": "8daf7079"
      },
      "source": [
        "# 파이썬 기초 다지기"
      ]
    },
    {
      "cell_type": "markdown",
      "id": "3f3da3bd",
      "metadata": {
        "id": "3f3da3bd"
      },
      "source": [
        "## 2 - 파이썬 자료형과 데이터 표현\n",
        "파이썬의 다양한 데이터 타입과 다양한 연산자, 문자열"
      ]
    },
    {
      "cell_type": "markdown",
      "id": "0c52a67e",
      "metadata": {
        "id": "0c52a67e"
      },
      "source": [
        "----------------------------------"
      ]
    },
    {
      "cell_type": "markdown",
      "id": "1ff36611",
      "metadata": {
        "id": "1ff36611"
      },
      "source": [
        "## 2-1.파이썬 자료형(Data Type)"
      ]
    },
    {
      "cell_type": "markdown",
      "id": "278fb39c",
      "metadata": {
        "id": "278fb39c"
      },
      "source": [
        "### 수학 연산하기"
      ]
    },
    {
      "cell_type": "code",
      "execution_count": null,
      "id": "7ea3146f",
      "metadata": {
        "colab": {
          "base_uri": "https://localhost:8080/"
        },
        "id": "7ea3146f",
        "outputId": "a46962bf-1aa3-4c9a-d4b4-de48ea9eaddf"
      },
      "outputs": [
        {
          "output_type": "stream",
          "name": "stdout",
          "text": [
            "120\n",
            "80\n",
            "2000\n",
            "5.0\n"
          ]
        }
      ],
      "source": [
        "a = 100\n",
        "b = 20\n",
        "print(a + b)\n",
        "print(a - b)\n",
        "print(a * b)\n",
        "print(a / b)"
      ]
    },
    {
      "cell_type": "markdown",
      "id": "105f773c",
      "metadata": {
        "id": "105f773c"
      },
      "source": [
        "### [실습문제]\n",
        "- 문제1: 10 + 3 x 4 결과 출력\n",
        "- 문제2: 아이폰 15대를 가지고 있다. 아이폰의 가격이 130만원 일 때 총 금액은?\n",
        "- 문제3: 주어진 자연수가 홀수인지 짝수인지 판별하는 방법은?\n",
        "- 문제4: 2x2x2x5x5x5x5x3x3x3x3을 제곱형태로 나타낸 후 그 결과 출력하기"
      ]
    },
    {
      "cell_type": "code",
      "execution_count": null,
      "id": "7a853d89",
      "metadata": {
        "colab": {
          "base_uri": "https://localhost:8080/"
        },
        "id": "7a853d89",
        "outputId": "d6782d49-ae46-4c08-e936-a0402961c9bd"
      },
      "outputs": [
        {
          "output_type": "stream",
          "name": "stdout",
          "text": [
            "10 + 3 * 4 = 22\n",
            "15 x 1300000 = 19500000\n",
            "        15 x 1300000 = 19500000\n",
            "76 짝수\n",
            "2x2x2x5x5x5x5x3x3x3x3 =  405000\n",
            "2x2x2x5x5x5x5x3x3x3x3 =  405000\n"
          ]
        }
      ],
      "source": [
        "# # 문제 1\n",
        "# print(10 + 3 * 4)\n",
        "# # 문제 2\n",
        "# print(15 * 1300000)\n",
        "# # 문제 3\n",
        "# print(a % 2)\n",
        "# print(a % 3)\n",
        "# # 문제 4\n",
        "# print((a)*2)\n",
        "# print((a)*4)\n",
        "\n",
        "# 문제1: 10 + 3 x 4 결과 출력\n",
        "print('10 + 3 * 4 =', 10 + 3 * 4)\n",
        "# 문제2: 아이폰 15대를 가지고 있다. 아이폰의 가격이 130만원 일 때 총 금액은?\n",
        "iphone = 15\n",
        "price = 1300000\n",
        "print('%d x %d = %d' % (iphone, price, iphone * price))\n",
        "print(f'{iphone:>10} x {price} = {iphone * price}')\n",
        "# :>10  오른쪽 정렬\n",
        "# :<10  왼쪽 정렬\n",
        "# :^10  가운데 정렬\n",
        "\n",
        "\n",
        "# 문제3: 주어진 자연수가 홀수인지 짝수인지 판별하는 방법은?\n",
        "import random\n",
        "number = random.randint(1, 100)   # 1~100까지의 임의의 정수\n",
        "if number%2==0 :                   # number를 2로 나눠서 나머지가 0인 것 : 짝수\n",
        "  print(number, '짝수')\n",
        "else :\n",
        "  print(number, '홀수')\n",
        "# 문제4: 2x2x2x5x5x5x5x3x3x3x3을 제곱형태로 나타낸 후 그 결과 출력하기\n",
        "print('2x2x2x5x5x5x5x3x3x3x3 = ', 2*2*2*5*5*5*5*3*3*3*3)\n",
        "print('2x2x2x5x5x5x5x3x3x3x3 = ', 2**3 * 5**4 * 3**4)"
      ]
    },
    {
      "cell_type": "markdown",
      "id": "65487a5c",
      "metadata": {
        "id": "65487a5c"
      },
      "source": [
        "### 변수\n",
        "데이터를 저장할 수 있는 공간\n",
        "\n",
        "**변수 사용 시 주의사항**\n",
        "- 첫 글자는 영문, 혹은 _(언더바)로 시작할 것 (한글도 가능)\n",
        "- 영문자, 숫자, _(언더바)만으로 구성할 것 (공백문자 불가)\n",
        "- 대문자, 소문자 구분해서 사용할 것\n",
        "- 예약어는 피할 것"
      ]
    },
    {
      "cell_type": "code",
      "execution_count": null,
      "id": "c86ab944",
      "metadata": {
        "id": "c86ab944"
      },
      "outputs": [],
      "source": []
    },
    {
      "cell_type": "markdown",
      "id": "6b43e39d",
      "metadata": {
        "id": "6b43e39d"
      },
      "source": [
        "### 파이썬 자료형"
      ]
    },
    {
      "cell_type": "code",
      "execution_count": null,
      "id": "bdcd0ef1",
      "metadata": {
        "colab": {
          "base_uri": "https://localhost:8080/"
        },
        "id": "bdcd0ef1",
        "outputId": "65ab8fb7-9d52-44cc-f06d-d00fd47950d9"
      },
      "outputs": [
        {
          "output_type": "stream",
          "name": "stdout",
          "text": [
            "데이터 123의 자료형: <class 'int'>\n",
            "데이터 123의 자료형: <class 'str'>\n",
            "데이터 [123]의 자료형: <class 'list'>\n",
            "데이터 (123,)의 자료형: <class 'tuple'>\n",
            "데이터 {'key': 123}의 자료형: <class 'dict'>\n",
            "데이터 {123}의 자료형: <class 'set'>\n",
            "데이터 True의 자료형: <class 'bool'>\n"
          ]
        }
      ],
      "source": [
        "d1 = 123\n",
        "d2 = '123'\n",
        "d3 = [123]\n",
        "d4 = (123,)\n",
        "d5 = {'key':123}\n",
        "d6 = {123}\n",
        "d7 = True\n",
        "\n",
        "print(f'데이터 {d1}의 자료형: {type(d1)}')\n",
        "print(f'데이터 {d2}의 자료형: {type(d2)}')\n",
        "print(f'데이터 {d3}의 자료형: {type(d3)}')\n",
        "print(f'데이터 {d4}의 자료형: {type(d4)}')\n",
        "print(f'데이터 {d5}의 자료형: {type(d5)}')\n",
        "print(f'데이터 {d6}의 자료형: {type(d6)}')\n",
        "print(f'데이터 {d7}의 자료형: {type(d7)}')"
      ]
    },
    {
      "cell_type": "markdown",
      "id": "7cda86df",
      "metadata": {
        "id": "7cda86df"
      },
      "source": [
        "### 표준 입력과 출력\n",
        "- 키보드로부터 입력을 받는 함수( input() )을 표준 입력함수라 한다.\n",
        "- 화면에 출력하는 함수( print() )를 표준 출력함수라 한다."
      ]
    },
    {
      "cell_type": "code",
      "execution_count": null,
      "id": "00ff5c37",
      "metadata": {
        "colab": {
          "base_uri": "https://localhost:8080/"
        },
        "id": "00ff5c37",
        "outputId": "104b1991-ff16-4012-df8a-4e742af1bcda"
      },
      "outputs": [
        {
          "output_type": "stream",
          "name": "stdout",
          "text": [
            "숫자를 입력하세요 : 3.14\n",
            "변수 a 의 값 : 3.14, <class 'float'>\n"
          ]
        }
      ],
      "source": [
        "# 표준 입력(키보드로부터 데이터를 입력 받는 것)\n",
        "a = input('숫자를 입력하세요 : ')\n",
        "a =float(a)\n",
        "print(f'변수 a 의 값 : {a}, {type(a)}')\n"
      ]
    },
    {
      "cell_type": "markdown",
      "id": "18bc822a",
      "metadata": {
        "id": "18bc822a"
      },
      "source": [
        "#### 문자열 데이터를 숫자(정수)로 변환하기"
      ]
    },
    {
      "cell_type": "code",
      "execution_count": null,
      "id": "aaf9890f",
      "metadata": {
        "id": "aaf9890f"
      },
      "outputs": [],
      "source": [
        "# 문자열 데이터를 숫자(정수)로 변환하기\n",
        "\n"
      ]
    },
    {
      "cell_type": "markdown",
      "id": "c0436ecb",
      "metadata": {
        "id": "c0436ecb"
      },
      "source": [
        "#### 다양한 변수 출력 방법"
      ]
    },
    {
      "cell_type": "code",
      "execution_count": null,
      "id": "7d2e160d",
      "metadata": {
        "scrolled": true,
        "id": "7d2e160d"
      },
      "outputs": [],
      "source": [
        "a = input('키보드로 숫자를 입력해 주세요 ')\n",
        "\n"
      ]
    },
    {
      "cell_type": "markdown",
      "id": "7ea5c22e",
      "metadata": {
        "id": "7ea5c22e"
      },
      "source": [
        "### [실습문제] : 계산기 프로그램 만들기\n",
        "정수 2개를 키보드로 각각 입력 받아 아래와 같이 덧셈, 뺄셈, 곱셈, 몫, 나머지를\n",
        "\n",
        "\n",
        "출력하는 프로그램을 만들어 보세요.\n"
      ]
    },
    {
      "cell_type": "code",
      "execution_count": null,
      "id": "fa128ef7",
      "metadata": {
        "colab": {
          "base_uri": "https://localhost:8080/"
        },
        "id": "fa128ef7",
        "outputId": "880c4500-bf6f-4a5f-8d0e-027b60f05de9"
      },
      "outputs": [
        {
          "output_type": "stream",
          "name": "stdout",
          "text": [
            "첫번째 숫자 : 5\n",
            "두번재 숫자 : 5\n",
            "--------------------------------------------------\n",
            "덧셈 : 5 + 5 = 10 \n",
            "뺄셈 : 5 - 5 = 0 \n",
            "곱하기 : 5 * 5 = 25 \n",
            "나누기 : 5 / 5 = 1 \n"
          ]
        }
      ],
      "source": [
        "num1 = int(input('첫번째 숫자 : '))\n",
        "num2 = int(input('두번재 숫자 : '))\n",
        "print('-' * 50)   # * : 문자열 반복\n",
        "print('덧셈 : %d + %d = %d '% (num1, num2, num1+num2))\n",
        "print('뺄셈 : %d - %d = %d '% (num1, num2, num1-num2))\n",
        "print('곱하기 : %d * %d = %d '% (num1, num2, num1*num2))\n",
        "print('나누기 : %d / %d = %d '% (num1, num2, num1/num2))\n",
        "\n",
        "\n",
        "\n"
      ]
    },
    {
      "cell_type": "markdown",
      "id": "ca1816b6",
      "metadata": {
        "id": "ca1816b6"
      },
      "source": [
        "- f'string' 함수를 이용해 출력하기"
      ]
    },
    {
      "cell_type": "code",
      "execution_count": null,
      "id": "8b486e15",
      "metadata": {
        "colab": {
          "base_uri": "https://localhost:8080/"
        },
        "id": "8b486e15",
        "outputId": "0d823eca-ad2b-4508-ab78-19037953b128"
      },
      "outputs": [
        {
          "output_type": "stream",
          "name": "stdout",
          "text": [
            "첫번째 숫자 : 5\n",
            "두번재 숫자 : 5\n",
            "--------------------------------------------------\n",
            "덧셈: 5 + 5 =  10\n",
            "뺄셈: 5 - 5 =  0\n",
            "곱하기: 5 * 5 = 25\n",
            "나누기 : 5 / 5 =  1.0\n"
          ]
        }
      ],
      "source": [
        "num1 = int(input('첫번째 숫자 : '))\n",
        "num2 = int(input('두번재 숫자 : '))\n",
        "print('-' * 50)   # * : 문자열 반복\n",
        "print(f'덧셈: {num1} + {num2} =  {num1+num2}')\n",
        "print(f'뺄셈: {num1} - {num2} =  {num1-num2}')\n",
        "print(f'곱하기: {num1} * {num2} = {num1*num2}')\n",
        "print(f'나누기 : {num1} / {num2} =  {num1/num2}')\n",
        "\n",
        "\n"
      ]
    },
    {
      "cell_type": "markdown",
      "id": "157b41ef",
      "metadata": {
        "id": "157b41ef"
      },
      "source": [
        "### [실습문제] : 시간 계산 프로그램\n",
        "속력과 거리를 입력 받아 시간을 계산하여 출력하는 프로그램을 만드세요!\n",
        "- 시간 = 거리 / 속력"
      ]
    },
    {
      "cell_type": "code",
      "execution_count": null,
      "id": "93102e01",
      "metadata": {
        "id": "93102e01"
      },
      "outputs": [],
      "source": [
        "velocity = float(input('속력를 입력해 주세요(km/h) : ') )\n",
        "distance = float(input('거리를 입력해 주세요(km) : '))\n",
        "print('-'*50)\n",
        "\n",
        "print(f'속력 : {velocity} km/h')\n",
        "print(f'거리 : {distance} km')\n",
        "print(f'시간 : {distance/velocity} h')"
      ]
    },
    {
      "cell_type": "markdown",
      "id": "89f48168",
      "metadata": {
        "id": "89f48168"
      },
      "source": [
        "- eval()함수 사용하여 문자열을 계산할 수 있다"
      ]
    },
    {
      "cell_type": "code",
      "execution_count": null,
      "id": "39dab77c",
      "metadata": {
        "colab": {
          "base_uri": "https://localhost:8080/"
        },
        "id": "39dab77c",
        "outputId": "bc23a5ea-48e3-4aac-eeeb-934dcca0d219"
      },
      "outputs": [
        {
          "output_type": "execute_result",
          "data": {
            "text/plain": [
              "70.0"
            ]
          },
          "metadata": {},
          "execution_count": 41
        }
      ],
      "source": [
        "# eval()함수 사용\n",
        "eval('10+40*3/2')\n",
        "\n"
      ]
    },
    {
      "cell_type": "code",
      "source": [
        "velocity = input('속력를 입력해 주세요(km/h) : ')\n",
        "distance = input('거리를 입력해 주세요(km) : ')\n",
        "time = eval(f'{distance}/{velocity}')\n",
        "print(f'걸린 시간은 {time}h = {distance}km / {velocity}km/h')\n"
      ],
      "metadata": {
        "id": "4IbNBB72cXGl"
      },
      "id": "4IbNBB72cXGl",
      "execution_count": null,
      "outputs": []
    },
    {
      "cell_type": "markdown",
      "id": "85b8c542",
      "metadata": {
        "id": "85b8c542"
      },
      "source": [
        "### 내장 수학 함수\n",
        "- 파이썬 내장 함수 https://docs.python.org/ko/3.10/library/functions.html"
      ]
    },
    {
      "cell_type": "code",
      "execution_count": null,
      "id": "2bfba8be",
      "metadata": {
        "scrolled": true,
        "colab": {
          "base_uri": "https://localhost:8080/"
        },
        "id": "2bfba8be",
        "outputId": "9def03ee-5f08-405c-8dda-0ba8e45c802a"
      },
      "outputs": [
        {
          "output_type": "stream",
          "name": "stdout",
          "text": [
            "원주율: 3.141592653589793\n",
            "절대값: 3.14\n",
            "반올림: -3\n",
            "올림  : -3\n",
            "내림  : -4\n",
            "제곱  : 256.0\n",
            "제곱근: 2.0\n",
            "로그  : 2.302585092994046\n"
          ]
        }
      ],
      "source": [
        "import math\n",
        "a = -3.14\n",
        "print(f'원주율: {math.pi}')\n",
        "print(f'절대값: {abs(a)}')      # 음수를 뺀다.\n",
        "print(f'반올림: {round(a)}')\n",
        "print(f'올림  : {math.ceil(a)}')\n",
        "print(f'내림  : {math.floor(a)}')\n",
        "print(f'제곱  : {math.pow(2, 8)}')\n",
        "print(f'제곱근: {math.sqrt(4)}')\n",
        "print(f'로그  : {math.log(10)}')"
      ]
    },
    {
      "cell_type": "markdown",
      "id": "c8147e87",
      "metadata": {
        "id": "c8147e87"
      },
      "source": [
        "### [실습문제]: 수학 함수 사용하여 계산하기\n",
        "- 문제1: 반지름이 4인 원의 넓이 출력\n",
        "- 문제2: 3.14 곱하가 2 나누기 7의 값을 반올림하여 계산 결과 출력\n",
        "- 문제3: 원주율을 3.14로 만들어서 반지름이 4인 원의 둘레의 길이 출력"
      ]
    },
    {
      "cell_type": "code",
      "execution_count": null,
      "id": "45ed86c9",
      "metadata": {
        "colab": {
          "base_uri": "https://localhost:8080/"
        },
        "id": "45ed86c9",
        "outputId": "8976b29d-595e-466f-f61c-4f4d1279ddad"
      },
      "outputs": [
        {
          "output_type": "stream",
          "name": "stdout",
          "text": [
            "문제1: 반지름이 4인 원의 넓이 출력 : 50.26548245743669\n",
            "문제2: 3.14 곱하기 2 나누기 7의 값을 반올림하여 계산 결과 출력 : 1\n",
            "문제3: 원주율을 3.14로 만들어서 반지름이 4인 원의 둘레의 길이 출력 : 25.12\n"
          ]
        }
      ],
      "source": [
        "#문제1: 반지름이 4인 원의 넓이 출력\n",
        "print(f'문제1: 반지름이 4인 원의 넓이 출력 : {math.pi * 4**2}')\n",
        "#문제2: 3.14 곱하기 2 나누기 7의 값을 반올림하여 계산 결과 출력\n",
        "b = 3.14*2/7\n",
        "print(f'문제2: 3.14 곱하기 2 나누기 7의 값을 반올림하여 계산 결과 출력 : {round(b)}')\n",
        "#문제3: 원주율을 3.14로 만들어서 반지름이 4인 원의 둘레의 길이 출력\n",
        "print(f'문제3: 원주율을 3.14로 만들어서 반지름이 4인 원의 둘레의 길이 출력 : { 2 * 3.14 *4}')"
      ]
    },
    {
      "cell_type": "markdown",
      "source": [
        "### [실습문제] 정수 (a)을 입력 받아, a + aa + aaa 결과 값 출력하기"
      ],
      "metadata": {
        "id": "bOGIUPIykp-k"
      },
      "id": "bOGIUPIykp-k"
    },
    {
      "cell_type": "code",
      "source": [
        "a = int(input('정수를 입력하세요 : '))\n",
        "b = a + (a*11) + (a*111)\n",
        "c = f'{a} + {a*11} + {a*111}'\n",
        "\n",
        "#print(f'{a} + {a*11} + {a*111} = {b}')\n",
        "print(f'{c} = {b}')\n",
        "\n"
      ],
      "metadata": {
        "colab": {
          "base_uri": "https://localhost:8080/"
        },
        "id": "JkDbx1stlBwa",
        "outputId": "e8a40b35-8b03-4ee7-f64a-ff3b5f8f5838"
      },
      "id": "JkDbx1stlBwa",
      "execution_count": null,
      "outputs": [
        {
          "output_type": "stream",
          "name": "stdout",
          "text": [
            "정수를 입력하세요 : 7\n",
            "7 + 77 + 777 = 861\n"
          ]
        }
      ]
    },
    {
      "cell_type": "code",
      "source": [
        "a = input('정수를 입력하세요 : ')\n",
        "result = f\"{a}+{a*2}+{a*3}\"\n",
        "print(f'{result}')"
      ],
      "metadata": {
        "colab": {
          "base_uri": "https://localhost:8080/"
        },
        "id": "mDIzlIQgqcfh",
        "outputId": "3350274e-d3f5-49be-89a4-b7624016dac2"
      },
      "id": "mDIzlIQgqcfh",
      "execution_count": null,
      "outputs": [
        {
          "output_type": "stream",
          "name": "stdout",
          "text": [
            "정수를 입력하세요 : 7\n",
            "7+77+777\n"
          ]
        }
      ]
    },
    {
      "cell_type": "markdown",
      "id": "32f4b4ce",
      "metadata": {
        "id": "32f4b4ce"
      },
      "source": [
        "---------------------------"
      ]
    },
    {
      "cell_type": "markdown",
      "id": "12be6789",
      "metadata": {
        "id": "12be6789"
      },
      "source": [
        "## 2-2.문자와 문자열"
      ]
    },
    {
      "cell_type": "markdown",
      "id": "90255097",
      "metadata": {
        "id": "90255097"
      },
      "source": [
        "#### 문자와 문자열 변환"
      ]
    },
    {
      "cell_type": "code",
      "execution_count": 1,
      "id": "a52f17d8",
      "metadata": {
        "id": "a52f17d8",
        "colab": {
          "base_uri": "https://localhost:8080/"
        },
        "outputId": "d5b18161-3dca-4ce4-f208-0e65404fa918"
      },
      "outputs": [
        {
          "output_type": "stream",
          "name": "stdout",
          "text": [
            "65\n",
            "97\n",
            "33\n",
            "44032\n"
          ]
        }
      ],
      "source": [
        "# 문자 --> 숫자(정수) 로 변환 : ord() 함수 사용\n",
        "print( ord('A') )\n",
        "print( ord('a') )\n",
        "print( ord('!') )\n",
        "print( ord('가') )"
      ]
    },
    {
      "cell_type": "code",
      "execution_count": 2,
      "id": "88bbb733",
      "metadata": {
        "id": "88bbb733",
        "colab": {
          "base_uri": "https://localhost:8080/"
        },
        "outputId": "05d68d80-81b6-466b-888b-6f66b5d8e82a"
      },
      "outputs": [
        {
          "output_type": "stream",
          "name": "stdout",
          "text": [
            "A\n",
            "B\n",
            "a\n",
            "b\n",
            "가\n",
            "각\n"
          ]
        }
      ],
      "source": [
        "# 숫자(정수) --> 문자 로 변환 : chr() 함수 사용\n",
        "print( chr(65) )\n",
        "print( chr(66) )\n",
        "print( chr(97) )\n",
        "print( chr(98) )\n",
        "print( chr(44032) )\n",
        "print( chr(44033) )"
      ]
    },
    {
      "cell_type": "code",
      "execution_count": 3,
      "id": "1cbfb609",
      "metadata": {
        "id": "1cbfb609",
        "colab": {
          "base_uri": "https://localhost:8080/"
        },
        "outputId": "6f3ddf9a-82cb-4311-8f3b-6dd3786fab41"
      },
      "outputs": [
        {
          "output_type": "stream",
          "name": "stdout",
          "text": [
            "0b1101001100001100 0b1100011101110100 0b1100001101101100 "
          ]
        }
      ],
      "source": [
        "# 문자 --> 숫자 --> 이진수 로 변환\n",
        "for c in '파이썬':\n",
        "    숫자변환 = ord(c)              # unicode\n",
        "    이진수변환 = bin(숫자변환)     # 16진수 binarycode\n",
        "    print( 이진수변환, end = ' ')  # 한 줄로 표현하기"
      ]
    },
    {
      "cell_type": "code",
      "execution_count": 4,
      "id": "d9577a3f",
      "metadata": {
        "id": "d9577a3f",
        "colab": {
          "base_uri": "https://localhost:8080/"
        },
        "outputId": "a5e74812-bc4a-4d3d-d74b-1b1b84aff85e"
      },
      "outputs": [
        {
          "output_type": "stream",
          "name": "stdout",
          "text": [
            "1101001100001100 1100011101110100 1100001101101100 "
          ]
        }
      ],
      "source": [
        "for c in '파이썬':\n",
        "    # 이진수에서 앞'0b'를 없애기 위해 format() 함수 사용할 수 있다.\n",
        "    print( format(ord(c), 'b'), end = ' ')  # 한 줄로 표현하기"
      ]
    },
    {
      "cell_type": "markdown",
      "id": "c87a0c03",
      "metadata": {
        "id": "c87a0c03"
      },
      "source": [
        "### 문자열 따옴표로 지정"
      ]
    },
    {
      "cell_type": "markdown",
      "id": "e343167b",
      "metadata": {
        "id": "e343167b"
      },
      "source": [
        "#### 큰 따옴표  or 작은 따옴표로 지정한다"
      ]
    },
    {
      "cell_type": "code",
      "execution_count": 5,
      "id": "fae54804",
      "metadata": {
        "id": "fae54804",
        "colab": {
          "base_uri": "https://localhost:8080/"
        },
        "outputId": "1bacdf23-5393-4102-f74e-45eb81d60d93"
      },
      "outputs": [
        {
          "output_type": "stream",
          "name": "stdout",
          "text": [
            "Hello\n",
            "Hello\n",
            "Hello 'world\n",
            "Hello \"world\n",
            " \"Yes, I can!\" \n",
            " \"Yes, I can!\" \n"
          ]
        }
      ],
      "source": [
        "print('Hello')\n",
        "print(\"Hello\")\n",
        "print(\"Hello 'world\")\n",
        "print('Hello \"world')\n",
        "print(' \"Yes, I can!\" ')\n",
        "print(\" \\\"Yes, I can!\\\" \")"
      ]
    },
    {
      "cell_type": "markdown",
      "id": "66f9d31e",
      "metadata": {
        "id": "66f9d31e"
      },
      "source": [
        "#### 따옴표 세 개 사용 : 여러 줄로 표현할 때"
      ]
    },
    {
      "cell_type": "code",
      "execution_count": 6,
      "id": "48fe4ca0",
      "metadata": {
        "id": "48fe4ca0",
        "colab": {
          "base_uri": "https://localhost:8080/"
        },
        "outputId": "5f9c0d79-d34f-4de0-9b9f-73adc8c5b8de"
      },
      "outputs": [
        {
          "output_type": "stream",
          "name": "stdout",
          "text": [
            "박씨가 소리질렀다.\n",
            "도둑이야!\n"
          ]
        }
      ],
      "source": [
        "a = '''박씨가 소리질렀다.\n",
        "도둑이야!'''\n",
        "print(a)"
      ]
    },
    {
      "cell_type": "code",
      "execution_count": 8,
      "id": "b32c2a51",
      "metadata": {
        "scrolled": true,
        "id": "b32c2a51",
        "colab": {
          "base_uri": "https://localhost:8080/"
        },
        "outputId": "9d5e2855-3fea-4f47-c8df-b9e963289666"
      },
      "outputs": [
        {
          "output_type": "stream",
          "name": "stdout",
          "text": [
            "OOO카페 메뉴판\n",
            "- 아메리카노:  3000원\n",
            "- 카페라테:     4000원\n",
            "- 카페모카:     5000원\n"
          ]
        }
      ],
      "source": [
        "menu = '''OOO카페 메뉴판\n",
        "- 아메리카노:  3000원\n",
        "- 카페라테:     4000원\n",
        "- 카페모카:     5000원'''\n",
        "print(menu)"
      ]
    },
    {
      "cell_type": "markdown",
      "id": "fb8a7c56",
      "metadata": {
        "id": "fb8a7c56"
      },
      "source": [
        "### [실습] 주문받아 출력하기"
      ]
    },
    {
      "cell_type": "code",
      "execution_count": 10,
      "id": "3a4d57f5",
      "metadata": {
        "id": "3a4d57f5",
        "colab": {
          "base_uri": "https://localhost:8080/"
        },
        "outputId": "7a7f3a4f-50ef-4c3e-bea2-14912e2ab9cb"
      },
      "outputs": [
        {
          "output_type": "stream",
          "name": "stdout",
          "text": [
            "카페주문 프로그램입니다.\n",
            "--------------------------------------------------\n",
            "OOO카페 메뉴판\n",
            "- 아메리카노:  3000원\n",
            "- 카페라테:     4000원\n",
            "- 카페모카:     5000원\n",
            "--------------------------------------------------\n",
            "주분하실 음료를 입력하세요: 카페라테\n",
            "주문하신 음료 카페라테가 나왔습니다. 맛있게 드세요\n"
          ]
        }
      ],
      "source": [
        "# 주문받아 출력하기\n",
        "print('카페주문 프로그램입니다.')\n",
        "print('-'*50)\n",
        "print(menu)\n",
        "print('-'*50)\n",
        "coffee = input('주분하실 음료를 입력하세요: ')\n",
        "print(f'주문하신 음료 {coffee}가 나왔습니다. 맛있게 드세요')\n",
        "\n"
      ]
    },
    {
      "cell_type": "markdown",
      "id": "38c40628",
      "metadata": {
        "id": "38c40628"
      },
      "source": [
        "### 문자열 연산\n",
        "- (+): 문자열 연결하기"
      ]
    },
    {
      "cell_type": "code",
      "execution_count": 11,
      "id": "6af90aaf",
      "metadata": {
        "id": "6af90aaf",
        "colab": {
          "base_uri": "https://localhost:8080/"
        },
        "outputId": "376b2f25-5b9b-4ac9-f56c-2ab63452f820"
      },
      "outputs": [
        {
          "output_type": "stream",
          "name": "stdout",
          "text": [
            "안녕하세요이수연\n",
            "안녕하세요 이수연\n"
          ]
        }
      ],
      "source": [
        "print('안녕하세요'+'이수연')\n",
        "print('안녕하세요','이수연')\n"
      ]
    },
    {
      "cell_type": "code",
      "source": [
        "print('7'+'7')"
      ],
      "metadata": {
        "colab": {
          "base_uri": "https://localhost:8080/"
        },
        "id": "j2JjQuiMEJwT",
        "outputId": "b21b437b-cc7e-4c13-d759-78787c481b8a"
      },
      "id": "j2JjQuiMEJwT",
      "execution_count": 13,
      "outputs": [
        {
          "output_type": "stream",
          "name": "stdout",
          "text": [
            "77\n"
          ]
        }
      ]
    },
    {
      "cell_type": "markdown",
      "id": "a27ee4d1",
      "metadata": {
        "id": "a27ee4d1"
      },
      "source": [
        "- (*) : 반복의 의미"
      ]
    },
    {
      "cell_type": "code",
      "execution_count": 18,
      "id": "229965c2",
      "metadata": {
        "id": "229965c2",
        "colab": {
          "base_uri": "https://localhost:8080/"
        },
        "outputId": "7b86de51-322a-4af6-dcbf-d81db29fd587"
      },
      "outputs": [
        {
          "output_type": "stream",
          "name": "stdout",
          "text": [
            "조은별님 조은별님 조은별님 \n",
            "------------------------------\n",
            "안녕하세요 안녕하세요 안녕하세요 \n"
          ]
        }
      ],
      "source": [
        "print('조은별님 '*3)\n",
        "print('-'*30)\n",
        "print('안녕하세요 '*3)\n"
      ]
    },
    {
      "cell_type": "markdown",
      "id": "2d2a3e0e",
      "metadata": {
        "id": "2d2a3e0e"
      },
      "source": [
        "### [실습문제] 문자열 출력하기\n",
        "- 문제1: 화면에   Mary’s cosmetics   출력\n",
        "- 문제2: 화면에  박씨가 소리질렀다. “도둑이야!”.  출력\n",
        "- 문제3: 다음 코드 실행시켜서 \\t와 \\n의 역할 확인하기 <br>\n",
        "print(\"안녕하세요.\\n오늘\\t날씨가\\t\\t좋습니다.\")    "
      ]
    },
    {
      "cell_type": "code",
      "execution_count": 25,
      "id": "36f87e66",
      "metadata": {
        "id": "36f87e66",
        "colab": {
          "base_uri": "https://localhost:8080/"
        },
        "outputId": "892ce153-1393-48f8-ed07-dcb3fe55dca1"
      },
      "outputs": [
        {
          "output_type": "stream",
          "name": "stdout",
          "text": [
            "Mary’s cosmetics\n",
            "화면에 박씨가 소리질렀다. “도둑이야!”.\n",
            "안녕하세요.\n",
            "오늘\t날씨가\t\t좋습니다.\n"
          ]
        }
      ],
      "source": [
        "# 문제1: 화면에 Mary’s cosmetics 출력\n",
        "print('Mary’s cosmetics')\n",
        "# 문제2: 화면에 박씨가 소리질렀다. “도둑이야!”. 출력\n",
        "print('화면에 박씨가 소리질렀다. “도둑이야!”.')\n",
        "# 문제3: 다음 코드 실행시켜서 \\t와 \\n의 역할 확인하기\n",
        "print(\"안녕하세요.\\n오늘\\t날씨가\\t\\t좋습니다.\")"
      ]
    },
    {
      "cell_type": "markdown",
      "id": "13245f26",
      "metadata": {
        "id": "13245f26"
      },
      "source": [
        "-------------------"
      ]
    },
    {
      "cell_type": "markdown",
      "id": "020d1cc5",
      "metadata": {
        "id": "020d1cc5"
      },
      "source": [
        "## 2-3.문자열 인덱싱과 슬라이싱"
      ]
    },
    {
      "cell_type": "code",
      "execution_count": null,
      "id": "9c875a9b",
      "metadata": {
        "id": "9c875a9b"
      },
      "outputs": [],
      "source": [
        "a = '우리는 민족중흥의 역사적 사명을 띠고 이 땅에 태어났다.'\n",
        "print( )"
      ]
    },
    {
      "cell_type": "code",
      "execution_count": 116,
      "id": "e50df3b3",
      "metadata": {
        "id": "e50df3b3",
        "colab": {
          "base_uri": "https://localhost:8080/"
        },
        "outputId": "65323d6d-70e9-4fa4-d5cd-77069b4e5d96"
      },
      "outputs": [
        {
          "output_type": "stream",
          "name": "stdout",
          "text": [
            "\n"
          ]
        }
      ],
      "source": [
        "fruits = 'orange'\n",
        "print( )\n"
      ]
    },
    {
      "cell_type": "code",
      "source": [
        "기사 = ''' 내일(18일)도 무덥겠습니다.\n",
        "\n",
        "서울의 아침 기온 25도, 낮 기온 32도로 밤낮으로 무더위가 이어지겠습니다.\n",
        "\n",
        "한편 내일 남쪽으로는 기압골이 지나면서 일부 남부와 제주에는 비 소식이 있는데요.\n",
        "\n",
        "양이 제법 많겠습니다.\n",
        "\n",
        "영남 해안에 최고 80mm, 영남 내륙과 전남 동부 남해안에 최고 60mm가 되겠고요.\n",
        "\n",
        "곳에 따라서는 시간당 최고 50mm로 강하게 쏟아질 수 있어서 안전사고에 주의하셔야겠습니다.\n",
        "\n",
        "그 밖에 수도권 등 전국 곳곳에서는 내일도 오후 한때 소나기 오는 곳이 있겠습니다.\n",
        "\n",
        "오늘 밤 서울과 인천 등 도심과 해안가를 중심으로는 열대야가 나타나겠고요.\n",
        "\n",
        "내일도 동해안을 제외하고는 전국의 낮 기온이 33도 안팎까지 오르겠습니다.\n",
        "\n",
        "다음 주에는 폭염을 잠시나마 누그러뜨릴 비 소식이 있습니다.\n",
        "\n",
        "화요일에는 중부지방에 수요일에는 전국 대부분 지역에 비가 내릴 전망입니다.\n",
        "\n",
        "(남유진 기상캐스터) '''\n",
        "print(기사.count('전남')) # 기사 변수에 '오늘' 단어의 개수\n",
        "print(기사.find('전남'))  # '오늘 '단어의 위치(인덱스)"
      ],
      "metadata": {
        "colab": {
          "base_uri": "https://localhost:8080/"
        },
        "id": "0BINjDOKJ3M_",
        "outputId": "88b50029-ec2a-44e8-fdcb-417da3525f84"
      },
      "id": "0BINjDOKJ3M_",
      "execution_count": 28,
      "outputs": [
        {
          "output_type": "stream",
          "name": "stdout",
          "text": [
            "1\n",
            "148\n"
          ]
        }
      ]
    },
    {
      "cell_type": "markdown",
      "source": [
        "## 문자열을 입력 받아 거꾸로 출력하는 프로그램을 작성하세요."
      ],
      "metadata": {
        "id": "T_LrGBfQMRQT"
      },
      "id": "T_LrGBfQMRQT"
    },
    {
      "cell_type": "code",
      "source": [
        "s = input('문자열을 입력하세요: ')\n",
        "print(s[::-1])"
      ],
      "metadata": {
        "colab": {
          "base_uri": "https://localhost:8080/"
        },
        "id": "dcWRmpQ-MbFi",
        "outputId": "229193e5-e70e-4874-d60b-240f18ccb24c"
      },
      "id": "dcWRmpQ-MbFi",
      "execution_count": 29,
      "outputs": [
        {
          "output_type": "stream",
          "name": "stdout",
          "text": [
            "문자열을 입력하세요: 사랑해요 파이썬\n",
            "썬이파 요해랑사\n"
          ]
        }
      ]
    },
    {
      "cell_type": "markdown",
      "source": [],
      "metadata": {
        "id": "Wfs4aIxhM3Vd"
      },
      "id": "Wfs4aIxhM3Vd"
    },
    {
      "cell_type": "markdown",
      "source": [
        "### [실습문제] 파일명과 확장자 분리하기 - 확장자가 포함된 파일명 전체를 입력 받아 파일명과 확장자를 출력하는 프로그램을 만들어 보세요"
      ],
      "metadata": {
        "id": "rZ-oKOHkMwvr"
      },
      "id": "rZ-oKOHkMwvr"
    },
    {
      "cell_type": "code",
      "source": [
        "fname = input('파일을 입력하세요 : ')\n",
        "print(f'입력한 파일: {fname}')\n",
        "a = fname.split('.')\n",
        "print(f'파일명이 : {a[0]}, 확장자: {a[1]}')\n",
        "\n",
        "\n"
      ],
      "metadata": {
        "colab": {
          "base_uri": "https://localhost:8080/"
        },
        "id": "xfL2U7dgM7Cw",
        "outputId": "6760fb70-291e-4043-84fd-db0bc697ee61"
      },
      "id": "xfL2U7dgM7Cw",
      "execution_count": 46,
      "outputs": [
        {
          "output_type": "stream",
          "name": "stdout",
          "text": [
            "파일을 입력하세요 : test.py\n",
            "입력한 파일: test.py\n",
            "파일명이 : test, 확장자: py\n"
          ]
        }
      ]
    },
    {
      "cell_type": "code",
      "source": [
        "# 강사님 완성 코드\n",
        "# split() 함수로 파일명과 확장자 분리하기\n",
        "fname = input('파일을 입력하세요: ')\n",
        "print(f'입력한 파일: {fname}')\n",
        "\n",
        "a = fname.split('.')\n",
        "print(f'파일명: {a[0]}, 확장자: {a[1]}')"
      ],
      "metadata": {
        "id": "nblIwnJ_Q2Zc"
      },
      "id": "nblIwnJ_Q2Zc",
      "execution_count": null,
      "outputs": []
    },
    {
      "cell_type": "markdown",
      "id": "1aecf2d0",
      "metadata": {
        "id": "1aecf2d0"
      },
      "source": [
        "---------------------------"
      ]
    },
    {
      "cell_type": "markdown",
      "id": "0f48d7cf",
      "metadata": {
        "id": "0f48d7cf"
      },
      "source": [
        "## 2-4.변수 활용"
      ]
    },
    {
      "cell_type": "markdown",
      "id": "d26c5d6e",
      "metadata": {
        "id": "d26c5d6e"
      },
      "source": [
        "### [실습문제]: 지불할 음식 총 가격 계산하기\n",
        "- 음식가격:  4,450 원\n",
        "- 세금: 6.75%\n",
        "- 팁: 15%\n",
        "1. meal 변수를 선언하고 값을 4450으로 지정하세요.\n",
        "2. tax 변수를 생성하고 값으로 6.75%를 소수점 형태로 지정하세요.\n",
        "3. tip 변수를 생성하고 값으로 15%를 소수점 형태로 지정하세요.\n",
        "4. meal의 변수값에 세금을 곱해 meal 변수에 지정하세요.\n",
        "5. 음식값에 tip을 더해 total 변수에 지정하세요.\n",
        "6. total 변수 값을 출력하세요."
      ]
    },
    {
      "cell_type": "code",
      "execution_count": 54,
      "id": "933828b3",
      "metadata": {
        "id": "933828b3",
        "colab": {
          "base_uri": "https://localhost:8080/"
        },
        "outputId": "ccab7241-731b-445e-c191-c964eedff1d8"
      },
      "outputs": [
        {
          "output_type": "stream",
          "name": "stdout",
          "text": [
            "순수 세금 : 300.375\n",
            "팁 금액 : 712.55625\n",
            "내가 지불해야 할 총 금액 : 5462.93\n"
          ]
        }
      ],
      "source": [
        "meal = 4450    # 1.음식가격\n",
        "tax = 0.0675   # 2.세금\n",
        "tip = 0.15     # 3.팁\n",
        "print(f'순수 세금 : {meal * tax}')\n",
        "\n",
        "meal = meal + (meal * tax)  # 4. 음식가격\n",
        "total = meal + (meal * tip) # 5 팁 적용\n",
        "\n",
        "print(f'팁 금액 : {meal * tip}')\n",
        "print(f'내가 지불해야 할 총 금액 : {round(total,2)}')\n",
        "\n",
        "\n"
      ]
    },
    {
      "cell_type": "code",
      "source": [
        "#강사님 코드\n",
        "meal = 4450    # 1.음식가격\n",
        "tax = 0.0675   # 2.세금\n",
        "tip = 0.15     # 3.팁\n",
        "print(f'순수 세금: {meal*tax}')\n",
        "meal = meal + (meal * tax)   # 4. 음식가격\n",
        "total = meal + (meal * tip)  # 5. 팁 적용한 총 금액\n",
        "print(f'팀 금액: {meal * tip}')\n",
        "print(f'내가 지불해야 할 총 금액: {round(total,2)}')"
      ],
      "metadata": {
        "id": "VwDYc1Z1UH9z"
      },
      "id": "VwDYc1Z1UH9z",
      "execution_count": null,
      "outputs": []
    },
    {
      "cell_type": "markdown",
      "id": "a4fa74c9",
      "metadata": {
        "id": "a4fa74c9"
      },
      "source": [
        "### [실습문제]: 섭씨온도를 화씨온도로 변환하기\n",
        "- 섭씨 온도 (Celsius): 1 atm에서의 물의 어는점을 0도, 끓는점을 100도로 정한 온도 체계. (°C)\n",
        "\n",
        "\n",
        "- 화씨 온도 (Fahrenheit): 물이 어는 온도는 32도, 물이 끓는 온도는 212도. 180등분. (°F)\n",
        "- 섭씨온도(℃) = (5 / 9) × (℉ - 32)  # Celsius\n",
        "- 화씨온도(℉) = (9 / 5) × ℃ + 32    # Fahrenheit"
      ]
    },
    {
      "cell_type": "code",
      "execution_count": 56,
      "id": "d65f3301",
      "metadata": {
        "scrolled": true,
        "id": "d65f3301",
        "colab": {
          "base_uri": "https://localhost:8080/"
        },
        "outputId": "ea040f0f-450c-4734-fd14-50305d1049a6"
      },
      "outputs": [
        {
          "output_type": "stream",
          "name": "stdout",
          "text": [
            "입력하시오25\n",
            "25 <class 'int'>\n"
          ]
        }
      ],
      "source": [
        "# c_temp = input()   #키보드로부터 입력을 받는 함수: input()\n",
        "# c_temp = int(c_temp)  # 정수로 변환: int()\n",
        "# print(c_temp, type(c_temp) )\n",
        "\n",
        "\n",
        "c_temp = input('입력하시오')   #키보드로부터 입력을 받는 함수: input()\n",
        "c_temp = int(c_temp)  # 정수로 변환: int()\n",
        "\n",
        "print(c_temp, type(c_temp) )"
      ]
    },
    {
      "cell_type": "code",
      "source": [
        "# 강사님 코드\n",
        "c_temp = float(input('온도를 입력해 주세요(화씨): '))\n",
        "f_temp = (9 / 5) * c_temp + 32\n",
        "print(f'화씨 온도 {c_temp}℃를 섭씨 온도로 변환하면 {f_temp}℉!')"
      ],
      "metadata": {
        "id": "MPGgDF-tVI37"
      },
      "id": "MPGgDF-tVI37",
      "execution_count": null,
      "outputs": []
    },
    {
      "cell_type": "markdown",
      "id": "a57cbf87",
      "metadata": {
        "id": "a57cbf87"
      },
      "source": [
        "-------"
      ]
    },
    {
      "cell_type": "markdown",
      "id": "f0265f78",
      "metadata": {
        "id": "f0265f78"
      },
      "source": [
        "## 2-5.연산자"
      ]
    },
    {
      "cell_type": "markdown",
      "id": "bff8051d",
      "metadata": {
        "id": "bff8051d"
      },
      "source": [
        "### [실습문제]: 동전 교환 프로그램 만들기"
      ]
    },
    {
      "cell_type": "code",
      "execution_count": 59,
      "id": "105db988",
      "metadata": {
        "id": "105db988",
        "colab": {
          "base_uri": "https://localhost:8080/"
        },
        "outputId": "2b1644a3-33f5-4bfa-b440-02751319bc64"
      },
      "outputs": [
        {
          "output_type": "stream",
          "name": "stdout",
          "text": [
            "---동전교환기 프로그램을 작동합니다.---\n",
            "금액을 입력하세요: 4321\n",
            "동전으로 교환하겠습니다.---------\n",
            "500원짜리 ==> 8개\n",
            "100원짜리 ==> 3개\n",
            "50원짜리 ==> 0개\n",
            "10원짜리 ==> 2개\n"
          ]
        }
      ],
      "source": [
        "# 키보드로부터 금액 입력 받기\n",
        "print('---동전교환기 프로그램을 작동합니다.---')\n",
        "money = int( input('금액을 입력하세요: '))\n",
        "print('동전으로 교환하겠습니다.---------')\n",
        "print(f\"500원짜리 ==> { money // 500 }개\") # 3. 500원 짜리 동전 개수 출력\n",
        "mCount = money // 500\n",
        "money = money - 500 * mCount\n",
        "print(f\"100원짜리 ==> { money // 100 }개\") # 4. 100원 짜리 동전 개수 출력\n",
        "mCount = money // 100\n",
        "money = money - 100 * mCount\n",
        "print(f\"50원짜리 ==> { money // 500 }개\") # 5. 50원 짜리 동전 개수 출력\n",
        "mCount = money // 50\n",
        "money = money - 50 * mCount\n",
        "print(f\"10원짜리 ==> { money // 10 }개\") # 6. 10원 짜리 동전 개수 출력\n",
        "mCount = money // 10\n",
        "money = money - 10 * mCount\n"
      ]
    },
    {
      "cell_type": "code",
      "source": [
        "#강사님 코드\n",
        "# 키보드로부터 금액 입력 받기\n",
        "print('---동전교환기 프로그램을 작동합니다.---')\n",
        "money = int( input('금액을 입력하세요: '))\n",
        "print('동전으로 교환하겠습니다.---------')\n",
        "print(f\"500원짜리 ==> { money // 500 }개\") # 3. 500원 짜리 동전 개수 출력\n",
        "#money = money % 500\n",
        "money %= 500\n",
        "print(money)\n",
        "print(f\"100원짜리 ==> { money // 100 }개\") # 4. 100원 짜리 동전 개수 출력\n",
        "#money = money % 100\n",
        "money %= 100\n",
        "print(money)\n",
        "print(f\"50원짜리 ==> { money // 500 }개\") # 5. 50원 짜리 동전 개수 출력\n",
        "money %= 50\n",
        "print(money)\n",
        "print(f\"10원짜리 ==> { money // 500 }개\") # 6. 10원 짜리 동전 개수 출력\n",
        "money %= 10\n",
        "print(money)\n",
        "print(f\"잔돈 ==> {money}원\")\n"
      ],
      "metadata": {
        "colab": {
          "base_uri": "https://localhost:8080/"
        },
        "id": "8gogmS_5aGv2",
        "outputId": "81aa0a20-7b19-4fe7-b7b4-87237c6d37e8"
      },
      "id": "8gogmS_5aGv2",
      "execution_count": 68,
      "outputs": [
        {
          "output_type": "stream",
          "name": "stdout",
          "text": [
            "---동전교환기 프로그램을 작동합니다.---\n",
            "금액을 입력하세요: 4321\n",
            "동전으로 교환하겠습니다.---------\n",
            "500원짜리 ==> 8개\n",
            "321\n",
            "100원짜리 ==> 3개\n",
            "21\n",
            "50원짜리 ==> 0개\n",
            "21\n",
            "10원짜리 ==> 0개\n",
            "1\n",
            "잔돈 ==> 1원\n"
          ]
        }
      ]
    },
    {
      "cell_type": "markdown",
      "id": "f359d4a1",
      "metadata": {
        "id": "f359d4a1"
      },
      "source": [
        "-----------------------------------------"
      ]
    },
    {
      "cell_type": "markdown",
      "id": "d8c018ca",
      "metadata": {
        "id": "d8c018ca"
      },
      "source": [
        "## 2-6.리스트(List)\n",
        "- 리스트는 여러 개의 데이터 값을 하나의 변수에 담을 수 있는 데이터 구조\n",
        "- 리스트는 순서(인덱스)가 있고 데이터를 수정, 삭제, 추가 가능하다.\n",
        "- 대괄호로 표현되고 내부 원소는 ,(쉼표)로 구분됨"
      ]
    },
    {
      "cell_type": "markdown",
      "id": "693f2484",
      "metadata": {
        "id": "693f2484"
      },
      "source": [
        "### 리스트 생성"
      ]
    },
    {
      "cell_type": "code",
      "execution_count": 70,
      "id": "a1b79606",
      "metadata": {
        "id": "a1b79606"
      },
      "outputs": [],
      "source": [
        "a = list()\n",
        "a = []\n",
        "a = [1,2,3]\n",
        "a = ['I', 'Love', 'Python']\n",
        "b = [1,2, '사랑해요', 'Python']\n",
        "b = ['a', '1', 1, [2,3], -4]\n",
        "a = [1,2,['a','b',['사랑해', '파이썬']], 3]"
      ]
    },
    {
      "cell_type": "code",
      "execution_count": 71,
      "id": "df23f6cf",
      "metadata": {
        "id": "df23f6cf",
        "colab": {
          "base_uri": "https://localhost:8080/"
        },
        "outputId": "a7154edd-300c-488a-fe4b-b34c1bc0b8ce"
      },
      "outputs": [
        {
          "output_type": "stream",
          "name": "stdout",
          "text": [
            "[1, 2, ['a', 'b', ['사랑해', '파이썬']], 3]\n",
            "['a', '1', 1, [2, 3], -4]\n"
          ]
        }
      ],
      "source": [
        "print(a)\n",
        "print(b)"
      ]
    },
    {
      "cell_type": "code",
      "source": [
        "# range() : 정수를 순차적으로 만들어주는 함수\n",
        "print(list(range(10)))"
      ],
      "metadata": {
        "colab": {
          "base_uri": "https://localhost:8080/"
        },
        "id": "9w4IEm4-gDSD",
        "outputId": "fc37e17a-8bf4-4d38-f5a3-f6b3182c16fc"
      },
      "id": "9w4IEm4-gDSD",
      "execution_count": 73,
      "outputs": [
        {
          "output_type": "stream",
          "name": "stdout",
          "text": [
            "[0, 1, 2, 3, 4, 5, 6, 7, 8, 9]\n"
          ]
        }
      ]
    },
    {
      "cell_type": "code",
      "source": [
        "a = 'python'\n",
        "list('a')"
      ],
      "metadata": {
        "id": "y_pkPktKiqYY"
      },
      "id": "y_pkPktKiqYY",
      "execution_count": null,
      "outputs": []
    },
    {
      "cell_type": "code",
      "source": [
        "기사 = '''오늘 남부지방과 제주도는 대체로 흐린 가운데 비가 내리겠습니다.\n",
        "예상 강수량은 영남 해안 지역이 30에서 80mm, 많은 곳은 100mm 이상이고, 그 밖의 남부지방과 제주도는 10에서 60mm입니다.\n",
        "비가 오는 동안 천둥·번개가 치고, 한 시간에 30mm가 넘는 강한 비가 쏟아지는 곳이 있겠습니다.\n",
        "남부지방과 제주도의 비는 내일 오전까지 계속되는 곳이 있겠습니다.\n",
        "오늘 중부지방은 가끔 구름이 많이 끼는 가운데 오후에 5에서 30mm의 소나기가 오는 곳이 있겠습니다.\n",
        "낮 최고기온은 서울 33도 등 전국이 26도에서 34도로 어제와 비슷하거나 조금 더 높겠습니다.\n",
        "바다의 물결은 남해 먼바다와 제주도 해상에서 최고 2.5m로 비교적 높게 일겠습니다.\n",
        "동해안과 경남 남해안에는 높은 너울이 밀려오는 곳이 있겠고, 동해상에는 짙은 안개가 끼는 곳이 있겠습니다.\n",
        "'''\n",
        "기사 = 기사.replace('남부지방', '중부지방')\n",
        "print(기사)\n",
        "result = 기사.split(' ')  # ' '로 분리해서 리스트로 반환\n",
        "print(f'리스트의 요소 개수(길이) : {len(result)}')\n",
        "print(result)\n"
      ],
      "metadata": {
        "colab": {
          "base_uri": "https://localhost:8080/"
        },
        "id": "glqDS3vLgy3W",
        "outputId": "ec3f4e8b-de99-4b78-c72c-2ae24a187875"
      },
      "id": "glqDS3vLgy3W",
      "execution_count": 77,
      "outputs": [
        {
          "output_type": "stream",
          "name": "stdout",
          "text": [
            "오늘 중부지방과 제주도는 대체로 흐린 가운데 비가 내리겠습니다.\n",
            "예상 강수량은 영남 해안 지역이 30에서 80mm, 많은 곳은 100mm 이상이고, 그 밖의 중부지방과 제주도는 10에서 60mm입니다.\n",
            "비가 오는 동안 천둥·번개가 치고, 한 시간에 30mm가 넘는 강한 비가 쏟아지는 곳이 있겠습니다.\n",
            "중부지방과 제주도의 비는 내일 오전까지 계속되는 곳이 있겠습니다.\n",
            "오늘 중부지방은 가끔 구름이 많이 끼는 가운데 오후에 5에서 30mm의 소나기가 오는 곳이 있겠습니다.\n",
            "낮 최고기온은 서울 33도 등 전국이 26도에서 34도로 어제와 비슷하거나 조금 더 높겠습니다.\n",
            "바다의 물결은 남해 먼바다와 제주도 해상에서 최고 2.5m로 비교적 높게 일겠습니다.\n",
            "동해안과 경남 남해안에는 높은 너울이 밀려오는 곳이 있겠고, 동해상에는 짙은 안개가 끼는 곳이 있겠습니다.\n",
            "\n",
            "리스트의 요소 개수(길이) : 92\n",
            "['오늘', '중부지방과', '제주도는', '대체로', '흐린', '가운데', '비가', '내리겠습니다.\\n예상', '강수량은', '영남', '해안', '지역이', '30에서', '80mm,', '많은', '곳은', '100mm', '이상이고,', '그', '밖의', '중부지방과', '제주도는', '10에서', '60mm입니다.\\n비가', '오는', '동안', '천둥·번개가', '치고,', '한', '시간에', '30mm가', '넘는', '강한', '비가', '쏟아지는', '곳이', '있겠습니다.\\n중부지방과', '제주도의', '비는', '내일', '오전까지', '계속되는', '곳이', '있겠습니다.\\n오늘', '중부지방은', '가끔', '구름이', '많이', '끼는', '가운데', '오후에', '5에서', '30mm의', '소나기가', '오는', '곳이', '있겠습니다.\\n낮', '최고기온은', '서울', '33도', '등', '전국이', '26도에서', '34도로', '어제와', '비슷하거나', '조금', '더', '높겠습니다.\\n바다의', '물결은', '남해', '먼바다와', '제주도', '해상에서', '최고', '2.5m로', '비교적', '높게', '일겠습니다.\\n동해안과', '경남', '남해안에는', '높은', '너울이', '밀려오는', '곳이', '있겠고,', '동해상에는', '짙은', '안개가', '끼는', '곳이', '있겠습니다.\\n']\n"
          ]
        }
      ]
    },
    {
      "cell_type": "markdown",
      "id": "7eef7d7c",
      "metadata": {
        "id": "7eef7d7c"
      },
      "source": [
        "### 리스트 전체 삭제"
      ]
    },
    {
      "cell_type": "code",
      "execution_count": 3,
      "id": "52a5a894",
      "metadata": {
        "id": "52a5a894",
        "colab": {
          "base_uri": "https://localhost:8080/",
          "height": 237
        },
        "outputId": "cb7fba1e-1499-4ad5-8427-ae6de0fd7734"
      },
      "outputs": [
        {
          "output_type": "stream",
          "name": "stdout",
          "text": [
            "[1, 2, 3, 4, 5]\n"
          ]
        },
        {
          "output_type": "error",
          "ename": "NameError",
          "evalue": "ignored",
          "traceback": [
            "\u001b[0;31m---------------------------------------------------------------------------\u001b[0m",
            "\u001b[0;31mNameError\u001b[0m                                 Traceback (most recent call last)",
            "\u001b[0;32m<ipython-input-3-b25b50ecceb9>\u001b[0m in \u001b[0;36m<cell line: 7>\u001b[0;34m()\u001b[0m\n\u001b[1;32m      5\u001b[0m \u001b[0;34m\u001b[0m\u001b[0m\n\u001b[1;32m      6\u001b[0m \u001b[0mprint\u001b[0m\u001b[0;34m(\u001b[0m\u001b[0ma\u001b[0m\u001b[0;34m)\u001b[0m\u001b[0;34m\u001b[0m\u001b[0;34m\u001b[0m\u001b[0m\n\u001b[0;32m----> 7\u001b[0;31m \u001b[0mprint\u001b[0m\u001b[0;34m(\u001b[0m\u001b[0mb\u001b[0m\u001b[0;34m)\u001b[0m\u001b[0;34m\u001b[0m\u001b[0;34m\u001b[0m\u001b[0m\n\u001b[0m",
            "\u001b[0;31mNameError\u001b[0m: name 'b' is not defined"
          ]
        }
      ],
      "source": [
        "a = [1,2,3,4,5]\n",
        "b = [6,7,8,9,10]\n",
        "\n",
        "del(b)  # 리스트 전체 삭제\n",
        "\n",
        "print(a)\n",
        "print(b)    # 오류가 나는게 정상임. 앞 단계에서 b 리스트 전체가 삭제됨."
      ]
    },
    {
      "cell_type": "markdown",
      "id": "b3ab38e4",
      "metadata": {
        "id": "b3ab38e4"
      },
      "source": [
        "### 리스트 요소에 접근"
      ]
    },
    {
      "cell_type": "code",
      "execution_count": 4,
      "id": "d36d5b62",
      "metadata": {
        "scrolled": true,
        "id": "d36d5b62",
        "colab": {
          "base_uri": "https://localhost:8080/"
        },
        "outputId": "79ffbeb1-52f9-473a-b6e1-84846169a299"
      },
      "outputs": [
        {
          "output_type": "stream",
          "name": "stdout",
          "text": [
            "green\n",
            "['blue', 'deepblue']\n",
            "deepblue\n"
          ]
        }
      ],
      "source": [
        "colors = ['red', 'green', ['blue', 'deepblue'], 'black', 'white']\n",
        "\n",
        "print( colors[1] )\n",
        "print( colors[2] )\n",
        "print( colors[2][1] )         # 차원의 개념 [ 열린 개수 만큼의 n차원이다.\n",
        "# '파이썬'을 출력하려면?\n"
      ]
    },
    {
      "cell_type": "markdown",
      "id": "b7811d5d",
      "metadata": {
        "id": "b7811d5d"
      },
      "source": [
        "### 리스트 요소 추가 / 변경"
      ]
    },
    {
      "cell_type": "code",
      "execution_count": 102,
      "id": "010220d8",
      "metadata": {
        "id": "010220d8",
        "colab": {
          "base_uri": "https://localhost:8080/"
        },
        "outputId": "7a077632-3b8b-4dc8-c907-f4dc1d8dfaad"
      },
      "outputs": [
        {
          "output_type": "stream",
          "name": "stdout",
          "text": [
            "['red', 'green', ['blue', 'deepblue'], 'black', 'white']\n",
            "['red', 'green', ['blue', 'deepblue'], 'black', 'white', '핑크']\n",
            "['red', '연두', 'green', ['blue', 'deepblue'], 'black', 'white', '핑크']\n",
            "['red', '연두', 'green', ['blue', 'darkblue', 'deepblue'], 'black', 'white', '핑크']\n",
            "['red', '연두', 'green', ['blue', 'darkblue', 'deepblue'], 'black', 'white', '핑크', ['r', 'g', 'b']]\n",
            "[6, '봄', '봄', '봄', '봄', '봄', '봄', 7, 8, 9, 10, '봄', '봄', '봄', '봄', '봄', '봄']\n",
            "[6, '봄', '봄', '봄', '봄', '봄', '봄', 7, 8, 9, 10, '봄', '봄', '봄', '봄', '봄', '봄', '봄']\n",
            "[6, '봄', '봄', '봄', '봄', '봄', '봄', '봄', 7, 8, 9, 10, '봄', '봄', '봄', '봄', '봄', '봄', '봄']\n"
          ]
        }
      ],
      "source": [
        "# 리스트 요소 추가\n",
        "colors = ['red', 'green', ['blue', 'deepblue'], 'black', 'white']\n",
        "print(colors)\n",
        "colors.append('핑크')   # 리스트 맨 끝에 추가\n",
        "print(colors)\n",
        "colors.insert(1,'연두') # 리스트명.insert(인덱스위치, 값)\n",
        "print(colors)\n",
        "colors[3].insert(1, 'darkblue')\n",
        "print(colors)\n",
        "colors.append(['r', 'g', 'b'])\n",
        "print(colors)\n",
        "\n",
        "print(a)\n",
        "a.append('봄')     # 리스트 맨 끝에 추가\n",
        "print(a)\n",
        "a.insert(1, '봄')  # 리스트명.insert(인덱스위치, 값)\n",
        "print(a)"
      ]
    },
    {
      "cell_type": "code",
      "source": [
        "# 리스트 요소 변경\n",
        "\n",
        "colors[1] = 'light green'   # 해당 위치에 값을 대입\n",
        "print(colors)\n",
        "\n",
        "colors[3][1] = 'lightblue'\n",
        "print(colors)\n",
        "\n",
        "colors[3:] = 'yellow'\n",
        "print(colors)\n"
      ],
      "metadata": {
        "colab": {
          "base_uri": "https://localhost:8080/"
        },
        "id": "miwFj_gblzgH",
        "outputId": "8166c2d7-cf4c-4845-e54f-12a26434e23f"
      },
      "id": "miwFj_gblzgH",
      "execution_count": 103,
      "outputs": [
        {
          "output_type": "stream",
          "name": "stdout",
          "text": [
            "['red', 'light green', 'green', ['blue', 'darkblue', 'deepblue'], 'black', 'white', '핑크', ['r', 'g', 'b']]\n",
            "['red', 'light green', 'green', ['blue', 'lightblue', 'deepblue'], 'black', 'white', '핑크', ['r', 'g', 'b']]\n",
            "['red', 'light green', 'green', 'y', 'e', 'l', 'l', 'o', 'w']\n"
          ]
        }
      ]
    },
    {
      "cell_type": "markdown",
      "id": "5a5820d1",
      "metadata": {
        "id": "5a5820d1"
      },
      "source": [
        "### 리스트 요소 삭제"
      ]
    },
    {
      "cell_type": "code",
      "execution_count": 6,
      "id": "e4c76b68",
      "metadata": {
        "id": "e4c76b68",
        "colab": {
          "base_uri": "https://localhost:8080/",
          "height": 273
        },
        "outputId": "99ee0037-9858-435b-8d93-458688e0964c"
      },
      "outputs": [
        {
          "output_type": "stream",
          "name": "stdout",
          "text": [
            "['red', 'green', ['blue', 'deepblue'], 'black']\n",
            "['red', 'green', ['blue', 'deepblue']]\n"
          ]
        },
        {
          "output_type": "error",
          "ename": "ValueError",
          "evalue": "ignored",
          "traceback": [
            "\u001b[0;31m---------------------------------------------------------------------------\u001b[0m",
            "\u001b[0;31mValueError\u001b[0m                                Traceback (most recent call last)",
            "\u001b[0;32m<ipython-input-6-2a59e9b9d041>\u001b[0m in \u001b[0;36m<cell line: 4>\u001b[0;34m()\u001b[0m\n\u001b[1;32m      2\u001b[0m \u001b[0mcolors\u001b[0m\u001b[0;34m.\u001b[0m\u001b[0mpop\u001b[0m\u001b[0;34m(\u001b[0m\u001b[0;34m)\u001b[0m     \u001b[0;31m# 리스트 맨 끝 요소 삭제\u001b[0m\u001b[0;34m\u001b[0m\u001b[0;34m\u001b[0m\u001b[0m\n\u001b[1;32m      3\u001b[0m \u001b[0mprint\u001b[0m\u001b[0;34m(\u001b[0m\u001b[0mcolors\u001b[0m\u001b[0;34m)\u001b[0m\u001b[0;34m\u001b[0m\u001b[0;34m\u001b[0m\u001b[0m\n\u001b[0;32m----> 4\u001b[0;31m \u001b[0mcolors\u001b[0m\u001b[0;34m.\u001b[0m\u001b[0mremove\u001b[0m\u001b[0;34m(\u001b[0m\u001b[0;34m'e'\u001b[0m\u001b[0;34m)\u001b[0m  \u001b[0;31m# 리스트명.remove(값), 단 여러 개 일 경우 첫 번째만 삭제됨\u001b[0m\u001b[0;34m\u001b[0m\u001b[0;34m\u001b[0m\u001b[0m\n\u001b[0m\u001b[1;32m      5\u001b[0m \u001b[0mprint\u001b[0m\u001b[0;34m(\u001b[0m\u001b[0mcolors\u001b[0m\u001b[0;34m)\u001b[0m\u001b[0;34m\u001b[0m\u001b[0;34m\u001b[0m\u001b[0m\n",
            "\u001b[0;31mValueError\u001b[0m: list.remove(x): x not in list"
          ]
        }
      ],
      "source": [
        "print(colors)\n",
        "colors.pop()     # 리스트 맨 끝 요소 삭제\n",
        "print(colors)\n",
        "colors.remove('e')  # 리스트명.remove(값), 단 여러 개 일 경우 첫 번째만 삭제됨\n",
        "print(colors)"
      ]
    },
    {
      "cell_type": "code",
      "source": [
        "# 리스트 요소 삭제\n",
        "colors = ['red', 'light green', 'green', 'e', 'l', 'l', 'o']\n",
        "print(colors)\n",
        "\n",
        "del colors[3]       # 특정 위치 요소 제거\n",
        "print(colors)\n",
        "\n",
        "colors.remove('l')  # 특정 값 제(첫 번째 값 만 제거)\n",
        "print(colors)\n",
        "\n",
        "colors.pop()        # 맨 뒤의 요소 제거\n",
        "print(colors)\n"
      ],
      "metadata": {
        "colab": {
          "base_uri": "https://localhost:8080/"
        },
        "id": "sAZ0J7LQoNx8",
        "outputId": "fdec112f-64b3-48bb-a1d9-b73d0b17d91a"
      },
      "id": "sAZ0J7LQoNx8",
      "execution_count": 7,
      "outputs": [
        {
          "output_type": "stream",
          "name": "stdout",
          "text": [
            "['red', 'light green', 'green', 'e', 'l', 'l', 'o']\n",
            "['red', 'light green', 'green', 'l', 'l', 'o']\n",
            "['red', 'light green', 'green', 'l', 'o']\n",
            "['red', 'light green', 'green', 'l']\n"
          ]
        }
      ]
    },
    {
      "cell_type": "code",
      "source": [
        "list(range(-1, -5, -1))\n",
        "# for _ in range(-1, -5, -1):\n",
        "#   colors.pop()\n",
        "#   print(colors)"
      ],
      "metadata": {
        "colab": {
          "base_uri": "https://localhost:8080/"
        },
        "id": "s_gDE3ihqCvE",
        "outputId": "783f4184-efc8-4ce1-b63d-0b60893df6d0"
      },
      "id": "s_gDE3ihqCvE",
      "execution_count": 109,
      "outputs": [
        {
          "output_type": "execute_result",
          "data": {
            "text/plain": [
              "[-1, -2, -3, -4]"
            ]
          },
          "metadata": {},
          "execution_count": 109
        }
      ]
    },
    {
      "cell_type": "code",
      "source": [
        "# 임의의 수 생성해서 리스트로 만들고 정렬하기\n",
        "\n",
        "import random\n",
        "\n",
        "numbers = []      # 빈 리스트\n",
        "numbers = list()  # 빈 리스트\n",
        "\n",
        "# 1~100까지 정수 중에 임의로 하나 뽑아서 리스트에 추가하기\n",
        "numbers.append(random.randint(1, 100))\n",
        "numbers.append(random.randint(1, 100))\n",
        "numbers.append(random.randint(1, 100))\n",
        "numbers.append(random.randint(1, 100))\n",
        "numbers.append(random.randint(1, 100))\n",
        "print(f'정렬 전 : {numbers}')\n",
        "\n",
        "# 정렬하기\n",
        "numbers.sort()\n",
        "numbers.reverse()\n",
        "print(f'정렬 후 : {numbers}')\n"
      ],
      "metadata": {
        "colab": {
          "base_uri": "https://localhost:8080/"
        },
        "id": "sUkpPClRrwGg",
        "outputId": "730d38f4-1ab3-4a78-ae09-0c483399a422"
      },
      "id": "sUkpPClRrwGg",
      "execution_count": 8,
      "outputs": [
        {
          "output_type": "stream",
          "name": "stdout",
          "text": [
            "정렬 전 : [74, 34, 53, 16, 28]\n",
            "정렬 후 : [74, 53, 34, 28, 16]\n"
          ]
        }
      ]
    },
    {
      "cell_type": "markdown",
      "id": "df6f6d08",
      "metadata": {
        "id": "df6f6d08"
      },
      "source": [
        "## 2-7.딕셔너리(Dictionary)\n",
        "- 딕셔너리는 쌍이 하나로 묶인 자료구조\n",
        "- 인덱스를 의미하는 ‘키(key)'와 자료의 내용인 ‘ 값(value)'을 이용하여  데이터를 관리\n",
        "- 중괄호 { }로 묶어 구성, 키(Key)와 값(Value)의 쌍으로 구성\n",
        "- 순서(sequence)가 없다"
      ]
    },
    {
      "cell_type": "markdown",
      "id": "4393e9e4",
      "metadata": {
        "id": "4393e9e4"
      },
      "source": [
        "### 딕셔너리 생성"
      ]
    },
    {
      "cell_type": "code",
      "execution_count": 9,
      "id": "da6bca38",
      "metadata": {
        "id": "da6bca38",
        "colab": {
          "base_uri": "https://localhost:8080/"
        },
        "outputId": "5f15c264-e453-4457-9584-270476976478"
      },
      "outputs": [
        {
          "output_type": "stream",
          "name": "stdout",
          "text": [
            "<class 'dict'> {}\n",
            "{'name': '진', 'age': 29, 'email': 'jin@gggmail.com'}\n",
            "29\n",
            "29\n",
            "{'name': '진', 'age': 29, 'email': 'jin@gggmail.com', 7: ['정국', '뷔', '지민']}\n"
          ]
        }
      ],
      "source": [
        "members = {}          # 빈 딕셔너리\n",
        "members = dict()      # 빈 딕셔너리\n",
        "print(type(members), members)\n",
        "\n",
        "members = {'name':'진', 'age':29, 'email':'jin@gggmail.com'}\n",
        "print(members)\n",
        "print(members['age'])   # 키로 값 찾기\n",
        "print(members.get('age'))\n",
        "members[7] = ['정국', '뷔', '지민']   # 딕셔너리에 요소 추가: 새로운 키(key):값(value) 추가, 딕션너리는 논리적 구조로 순서가 없다.\n",
        "print(members)\n",
        "\n"
      ]
    },
    {
      "cell_type": "markdown",
      "id": "b5f4d763",
      "metadata": {
        "id": "b5f4d763"
      },
      "source": [
        "### 딕셔너리 키(key)와 값(value)에 접근하기"
      ]
    },
    {
      "cell_type": "code",
      "execution_count": 124,
      "id": "0697a654",
      "metadata": {
        "id": "0697a654",
        "colab": {
          "base_uri": "https://localhost:8080/"
        },
        "outputId": "c42e68c5-4fb8-4555-cd27-ba82809326f5"
      },
      "outputs": [
        {
          "output_type": "stream",
          "name": "stdout",
          "text": [
            "100\n",
            "---방법1---\n",
            "국어 => 100\n",
            "수학 => 90\n",
            "영어 => 80\n",
            "dict_items([('국어', 100), ('수학', 90), ('영어', 80)])\n",
            "---방법2---\n",
            "국어 => 100\n",
            "수학 => 90\n",
            "영어 => 80\n"
          ]
        }
      ],
      "source": [
        "## 딕셔너리의 요소 접근하는 방법\n",
        "\n",
        "scores = {'국어': 100, '수학': 90, '영어': 80}\n",
        "\n",
        "print(scores['국어'])  # 딕셔너리는 키로 접근한다.\n",
        "\n",
        "# 방법1\n",
        "print('---방법1---')\n",
        "for key in scores:\n",
        "    # print('%s => %s' % (key, scores[key]))\n",
        "    print(f'{key} => {scores[key]}')\n",
        "\n",
        "# (키.값) 요소를 갖는 리스트 형태로 반환\n",
        "print(scores.items())\n",
        "\n",
        "# 방법2\n",
        "print('---방법2---')\n",
        "for key, value in scores.items():\n",
        "    #print('%s => %s' % (key, value))\n",
        "    print(f'{key} => {value}')"
      ]
    },
    {
      "cell_type": "code",
      "execution_count": 125,
      "id": "011745db",
      "metadata": {
        "id": "011745db",
        "colab": {
          "base_uri": "https://localhost:8080/"
        },
        "outputId": "b908c902-cbe7-4b18-db9e-3d8890fa1bb9"
      },
      "outputs": [
        {
          "output_type": "stream",
          "name": "stdout",
          "text": [
            "dict_keys(['국어', '수학', '영어'])\n",
            "dict_values([100, 90, 80])\n",
            "dict_items([('국어', 100), ('수학', 90), ('영어', 80)])\n"
          ]
        }
      ],
      "source": [
        "print(scores.keys())   # 키만 추출\n",
        "print(scores.values()) # 키만 추출\n",
        "print(scores.items())  # (키,값)쌍 형태로 추출"
      ]
    },
    {
      "cell_type": "markdown",
      "id": "7d76f114",
      "metadata": {
        "id": "7d76f114"
      },
      "source": [
        "### 딕셔너리에 요소 추가/수정/삭제"
      ]
    },
    {
      "cell_type": "code",
      "execution_count": 15,
      "id": "f15a3506",
      "metadata": {
        "id": "f15a3506",
        "colab": {
          "base_uri": "https://localhost:8080/"
        },
        "outputId": "94956c4d-7766-4bac-91c3-af21b308846d"
      },
      "outputs": [
        {
          "output_type": "stream",
          "name": "stdout",
          "text": [
            "{'국어': 100, '수학': 90, '영어': 80, 'music': 100}\n",
            "{'국어': 100, '수학': 99, '영어': 80, 'music': 100}\n",
            "{'국어': 100, '수학': 99}\n"
          ]
        }
      ],
      "source": [
        "scores = {'국어': 100, '수학': 90, '영어': 80}\n",
        "\n",
        "# 키로 요소 추가하기\n",
        "scores['music'] = 100\n",
        "print(scores)\n",
        "\n",
        "# 요소 값 수정하기\n",
        "scores['수학'] = 99\n",
        "print(scores)\n",
        "\n",
        "# 요소 삭제하기\n",
        "#del (scores['영어'])   # () 치거나 안치거나 상관없이 적용\n",
        "del (scores['영어'],scores['music'])   # 여러개 삭제는 키 값을 써줘야한다.\n",
        "print(scores)"
      ]
    },
    {
      "cell_type": "markdown",
      "source": [
        "##튜플"
      ],
      "metadata": {
        "id": "_QvRq0z47Ltx"
      },
      "id": "_QvRq0z47Ltx"
    },
    {
      "cell_type": "code",
      "source": [
        "a = tuple()   # 빈 튜플 생성\n",
        "a = ()        # 빈 튜플\n",
        "\n",
        "\n",
        "a = (1, 2, 3, 4, 5)\n",
        "print(type(a), a)\n",
        "\n",
        "print(a[3])\n",
        "print(a[:3])\n",
        "\n",
        "a[3] = 44   # 오류 나는거 맞음. 이건 데이터 고정값으로 수정이 불가함."
      ],
      "metadata": {
        "colab": {
          "base_uri": "https://localhost:8080/",
          "height": 273
        },
        "id": "gzlFCSAb7qJH",
        "outputId": "1c9e877f-e5c6-45df-fa3f-c25ba3a32a79"
      },
      "id": "gzlFCSAb7qJH",
      "execution_count": 16,
      "outputs": [
        {
          "output_type": "stream",
          "name": "stdout",
          "text": [
            "<class 'tuple'> (1, 2, 3, 4, 5)\n",
            "4\n",
            "(1, 2, 3)\n"
          ]
        },
        {
          "output_type": "error",
          "ename": "TypeError",
          "evalue": "ignored",
          "traceback": [
            "\u001b[0;31m---------------------------------------------------------------------------\u001b[0m",
            "\u001b[0;31mTypeError\u001b[0m                                 Traceback (most recent call last)",
            "\u001b[0;32m<ipython-input-16-8ff6e2c61d9a>\u001b[0m in \u001b[0;36m<cell line: 11>\u001b[0;34m()\u001b[0m\n\u001b[1;32m      9\u001b[0m \u001b[0mprint\u001b[0m\u001b[0;34m(\u001b[0m\u001b[0ma\u001b[0m\u001b[0;34m[\u001b[0m\u001b[0;34m:\u001b[0m\u001b[0;36m3\u001b[0m\u001b[0;34m]\u001b[0m\u001b[0;34m)\u001b[0m\u001b[0;34m\u001b[0m\u001b[0;34m\u001b[0m\u001b[0m\n\u001b[1;32m     10\u001b[0m \u001b[0;34m\u001b[0m\u001b[0m\n\u001b[0;32m---> 11\u001b[0;31m \u001b[0ma\u001b[0m\u001b[0;34m[\u001b[0m\u001b[0;36m3\u001b[0m\u001b[0;34m]\u001b[0m \u001b[0;34m=\u001b[0m \u001b[0;36m44\u001b[0m   \u001b[0;31m# 오류 나는거 맞음. 이건 데이터 고정값으로 수정이 불가함.\u001b[0m\u001b[0;34m\u001b[0m\u001b[0;34m\u001b[0m\u001b[0m\n\u001b[0m",
            "\u001b[0;31mTypeError\u001b[0m: 'tuple' object does not support item assignment"
          ]
        }
      ]
    },
    {
      "cell_type": "markdown",
      "source": [
        "### 집합(Set)"
      ],
      "metadata": {
        "id": "qOnvA7vf8dIR"
      },
      "id": "qOnvA7vf8dIR"
    },
    {
      "cell_type": "code",
      "source": [
        "a = set()   # 빈 집\n",
        "a =  set(\"hello\")\n",
        "print(type(a), a )"
      ],
      "metadata": {
        "colab": {
          "base_uri": "https://localhost:8080/"
        },
        "id": "4RxVe1kz8hHT",
        "outputId": "44cfc996-a0e4-4b53-b80f-53131d96d789"
      },
      "id": "4RxVe1kz8hHT",
      "execution_count": 11,
      "outputs": [
        {
          "output_type": "stream",
          "name": "stdout",
          "text": [
            "<class 'set'> {'e', 'h', 'o', 'l'}\n"
          ]
        }
      ]
    },
    {
      "cell_type": "markdown",
      "id": "45e329e4",
      "metadata": {
        "id": "45e329e4"
      },
      "source": [
        "------------------------"
      ]
    },
    {
      "cell_type": "code",
      "source": [
        "# 집합에서는 중복된 데이터를 배제 시킬 수 있다.\n",
        "frutis = ['사과', '바나나', '사과', '포도', '귤', '귤']\n",
        "a = list( set(frutis) )\n",
        "a.sort()\n",
        "print(a)"
      ],
      "metadata": {
        "colab": {
          "base_uri": "https://localhost:8080/"
        },
        "id": "toQKdkmi8-TE",
        "outputId": "ccb3f7e7-d834-4a13-994e-c2c2103c5d98"
      },
      "id": "toQKdkmi8-TE",
      "execution_count": 13,
      "outputs": [
        {
          "output_type": "stream",
          "name": "stdout",
          "text": [
            "['귤', '바나나', '사과', '포도']\n"
          ]
        }
      ]
    },
    {
      "cell_type": "code",
      "source": [
        "help(list)    # help() : 도움말 함수"
      ],
      "metadata": {
        "id": "MrUVr2tk-xIj"
      },
      "id": "MrUVr2tk-xIj",
      "execution_count": null,
      "outputs": []
    },
    {
      "cell_type": "markdown",
      "id": "66025633",
      "metadata": {
        "id": "66025633"
      },
      "source": [
        "끝"
      ]
    }
  ],
  "metadata": {
    "kernelspec": {
      "display_name": "Python 3 (ipykernel)",
      "language": "python",
      "name": "python3"
    },
    "language_info": {
      "codemirror_mode": {
        "name": "ipython",
        "version": 3
      },
      "file_extension": ".py",
      "mimetype": "text/x-python",
      "name": "python",
      "nbconvert_exporter": "python",
      "pygments_lexer": "ipython3",
      "version": "3.10.9"
    },
    "vscode": {
      "interpreter": {
        "hash": "b41e41bff03a930185ac2cbea60ce521f7c8c2f5401ceb5c30214081f77ab4f5"
      }
    },
    "colab": {
      "provenance": [],
      "include_colab_link": true
    }
  },
  "nbformat": 4,
  "nbformat_minor": 5
}