{
  "nbformat": 4,
  "nbformat_minor": 0,
  "metadata": {
    "colab": {
      "provenance": [],
      "authorship_tag": "ABX9TyNpJWFk1LK5NPwVagy+cDAe",
      "include_colab_link": true
    },
    "kernelspec": {
      "name": "python3",
      "display_name": "Python 3"
    },
    "language_info": {
      "name": "python"
    }
  },
  "cells": [
    {
      "cell_type": "markdown",
      "metadata": {
        "id": "view-in-github",
        "colab_type": "text"
      },
      "source": [
        "<a href=\"https://colab.research.google.com/github/happinesslee/projectmanager/blob/main/1_%ED%8C%8C%EC%9D%B4%EC%8D%AC_1%EC%9D%BC%EC%B0%A8~%EC%8B%A4%EC%8A%B5_.ipynb\" target=\"_parent\"><img src=\"https://colab.research.google.com/assets/colab-badge.svg\" alt=\"Open In Colab\"/></a>"
      ]
    },
    {
      "cell_type": "markdown",
      "source": [
        "# 파이썬 기초 프로그래밍 - 1일차 실습"
      ],
      "metadata": {
        "id": "ayViawhKeWwP"
      }
    },
    {
      "cell_type": "markdown",
      "source": [
        "## 1.코렙에서 파이썬 사용하기\n",
        "\n"
      ],
      "metadata": {
        "id": "1_WHUQf4e7xM"
      }
    },
    {
      "cell_type": "markdown",
      "source": [
        "### 1-1.파이썬 실습 1일차"
      ],
      "metadata": {
        "id": "QxnF9sG2gfX2"
      }
    },
    {
      "cell_type": "markdown",
      "source": [
        "#### 시작"
      ],
      "metadata": {
        "id": "qv_l7sPcgwse"
      }
    },
    {
      "cell_type": "code",
      "source": [
        "import sys\n",
        "sys.version\n",
        "'3. 10. 12'(min)"
      ],
      "metadata": {
        "id": "pQesxe6TfSMN"
      },
      "execution_count": null,
      "outputs": []
    },
    {
      "cell_type": "markdown",
      "source": [],
      "metadata": {
        "id": "bzI8EFLfewAE"
      }
    }
  ]
}