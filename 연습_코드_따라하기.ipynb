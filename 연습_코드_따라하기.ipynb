{
  "nbformat": 4,
  "nbformat_minor": 0,
  "metadata": {
    "colab": {
      "provenance": [],
      "authorship_tag": "ABX9TyMG74Qr4xHT8mM+SPVct9vQ",
      "include_colab_link": true
    },
    "kernelspec": {
      "name": "python3",
      "display_name": "Python 3"
    },
    "language_info": {
      "name": "python"
    }
  },
  "cells": [
    {
      "cell_type": "markdown",
      "metadata": {
        "id": "view-in-github",
        "colab_type": "text"
      },
      "source": [
        "<a href=\"https://colab.research.google.com/github/happinesslee/projectmanager/blob/main/%EC%97%B0%EC%8A%B5_%EC%BD%94%EB%93%9C_%EB%94%B0%EB%9D%BC%ED%95%98%EA%B8%B0.ipynb\" target=\"_parent\"><img src=\"https://colab.research.google.com/assets/colab-badge.svg\" alt=\"Open In Colab\"/></a>"
      ]
    },
    {
      "cell_type": "markdown",
      "source": [
        "#연습 - 코드 따라하기"
      ],
      "metadata": {
        "id": "TfB5oOvVy8Ch"
      }
    },
    {
      "cell_type": "code",
      "source": [
        "a = input('키보드로 숫자를 입력해 주세요.')\n",
        "a = int(a)\n",
        "print(type(a))\n"
      ],
      "metadata": {
        "colab": {
          "base_uri": "https://localhost:8080/"
        },
        "id": "YzJVqO_5zBYI",
        "outputId": "5573bc35-41ba-43c9-d465-e71a3bd3cf12"
      },
      "execution_count": null,
      "outputs": [
        {
          "output_type": "stream",
          "name": "stdout",
          "text": [
            "키보드로 숫자를 입력해 주세요.25\n",
            "<class 'int'>\n"
          ]
        }
      ]
    },
    {
      "cell_type": "code",
      "source": [
        "print('변수 a에 기억된 값은', a, '입니다.')\n",
        "print('변수 a에 기억된 값은 %s 입니다.' %a)\n",
        "print(f'변수에 a에 기억된 값은 { a} 입니다.')\n"
      ],
      "metadata": {
        "colab": {
          "base_uri": "https://localhost:8080/"
        },
        "id": "wYtwYyRaz7zw",
        "outputId": "92fe82cf-f81f-4c4b-fd51-9b73612e8064"
      },
      "execution_count": null,
      "outputs": [
        {
          "output_type": "stream",
          "name": "stdout",
          "text": [
            "변수 a에 기억된 값은 25 입니다.\n",
            "변수 a에 기억된 값은 25 입니다.\n",
            "변수에 a에 기억된 값은 25 입니다.\n"
          ]
        }
      ]
    },
    {
      "cell_type": "code",
      "source": [
        "# 문제1: 10 + 3 x 4 결과 출력\n",
        "print(f'10 + 3 x 4  = {10 + 3 * 4}')\n",
        "# 문제2: 아이폰 15대를 가지고 있다. 아이폰의 가격이 130만원 일 때 총 금액은?\n",
        "iphone = int(15)\n",
        "price = 1300000\n",
        "print('%d x %d = %d' % (iphone, price, iphone * price))\n",
        "# 문제3: 주어진 자연수가 홀수인지 짝수인지 판별하는 방법은?\n",
        "import random\n",
        "number = random.randint(1, 100)\n",
        "if number%2 == 0 :\n",
        "  print(number, '짝수')\n",
        "else :\n",
        "  print(number, '홀수')\n",
        "# 문제4: 2x2x2x5x5x5x5x3x3x3x3을 제곱형태로 나타낸 후 그 결과 출력하기\n",
        "print(2**3 * 5**4 * 3**4)"
      ],
      "metadata": {
        "colab": {
          "base_uri": "https://localhost:8080/"
        },
        "id": "peQhRdXD12Fu",
        "outputId": "dff7f039-8b5c-4082-a40f-d9188e0c623a"
      },
      "execution_count": null,
      "outputs": [
        {
          "output_type": "stream",
          "name": "stdout",
          "text": [
            "10 + 3 x 4  = 22\n",
            "15 x 1300000 = 19500000\n",
            "24 짝수\n",
            "405000\n"
          ]
        }
      ]
    },
    {
      "cell_type": "code",
      "source": [
        "a = int(input('첫 번째 숫자: '))\n",
        "b = int(input('두 번째 숫자: '))\n",
        "\n",
        "print(f'덧셈 :  {a} + {b} = {a + b}')\n",
        "print(f'뺄셈 :  {a} - {b} = {a - b}')\n",
        "print(f'곱셈 :  {a} * {b} = {a * b}')\n",
        "print(f'몫   :  {a} // {b} = {a // b}')\n",
        "print(f'나머지 :  {a} % {b} = {a % b}')\n"
      ],
      "metadata": {
        "colab": {
          "base_uri": "https://localhost:8080/"
        },
        "id": "PWSdgmQQ0k8l",
        "outputId": "4550367b-3781-47f8-e400-e791f506183f"
      },
      "execution_count": null,
      "outputs": [
        {
          "output_type": "stream",
          "name": "stdout",
          "text": [
            "첫 번째 숫자: 50\n",
            "두 번째 숫자: 25\n",
            "덧셈 :  50 + 25 = 75\n",
            "뺄셈 :  50 - 25 = 25\n",
            "곱셈 :  50 * 25 = 1250\n",
            "몫   :  50 // 25 = 2\n",
            "나머지 :  50 % 25 = 0\n"
          ]
        }
      ]
    },
    {
      "cell_type": "code",
      "source": [
        "a = input('숫자를 입력하세요 : ')\n",
        "a = float(a)\n",
        "print(f'변수 a 의 값 : {a}, {type(a)}')"
      ],
      "metadata": {
        "colab": {
          "base_uri": "https://localhost:8080/"
        },
        "id": "qy1Rq6aN5yds",
        "outputId": "4d7e13e4-f485-471e-f614-a2f159a82092"
      },
      "execution_count": null,
      "outputs": [
        {
          "output_type": "stream",
          "name": "stdout",
          "text": [
            "숫자를 입력하세요 : 25\n",
            "변수 a 의 값 : 25.0, <class 'float'>\n"
          ]
        }
      ]
    },
    {
      "cell_type": "code",
      "source": [
        "velocity = float(input('속력을 입력해 주세요(km/h) : '))\n",
        "distance = float(input('거리를 입력해 주세요(km) : '))\n",
        "time = velocity * distance\n",
        "print('-'*35)\n",
        "print(f'속력 : {velocity} km/h')\n",
        "print(f'거리 : {distance} km')\n",
        "print(f'시간 : {distance/velocity} h')\n",
        "\n"
      ],
      "metadata": {
        "colab": {
          "base_uri": "https://localhost:8080/"
        },
        "id": "AfEMf6jJ6Lc7",
        "outputId": "9b759bc6-8ce1-410f-d72b-22a7e132c48d"
      },
      "execution_count": null,
      "outputs": [
        {
          "output_type": "stream",
          "name": "stdout",
          "text": [
            "속력을 입력해 주세요(km/h) : 100\n",
            "거리를 입력해 주세요(km) : 340\n",
            "-----------------------------------\n",
            "속력 : 100.0 km/h\n",
            "거리 : 340.0 km\n",
            "시간 : 3.4 h\n"
          ]
        }
      ]
    },
    {
      "cell_type": "code",
      "source": [
        "import math\n",
        "a = -3.14\n",
        "print(f'{math.pi}')\n",
        "print(f'{abs(a)}')\n",
        "print(f'{round(a)}')\n",
        "print(f'{math.ceil(a)}')\n",
        "print(f'{math.floor(a)}')\n",
        "print(f'{math.pow(2, 2)}')\n",
        "print(f'{math.sqrt(4)}')\n",
        "print(f'{math.log(10)}')"
      ],
      "metadata": {
        "colab": {
          "base_uri": "https://localhost:8080/"
        },
        "id": "v-mXVgys8QAQ",
        "outputId": "f2ab910b-67eb-4d81-dc39-89ff7ed1d779"
      },
      "execution_count": null,
      "outputs": [
        {
          "output_type": "stream",
          "name": "stdout",
          "text": [
            "3.141592653589793\n",
            "3.14\n",
            "-3\n",
            "-3\n",
            "-4\n",
            "4.0\n",
            "2.0\n",
            "2.302585092994046\n"
          ]
        }
      ]
    },
    {
      "cell_type": "code",
      "source": [
        "# 문제1: 반지름이 4인 원의 넓이 출력\n",
        "print(f' r = 4 의 넓이 : {math.pi * 4**2}')\n",
        "# 문제2: 3.14 곱하가 2 나누기 7의 값을 반올림하여 계산 결과 출력\n",
        "print(f'3.14 곱하기 2 나누기 7의 값 : {round(3.14*2/7)}')\n",
        "# 문제3: 원주율을 3.14로 만들어서 반지름이 4인 원의 둘레의 길이 출력\n",
        "print(f'원주율을 3.14로 만들어서 r=4 : {2 * 3.14 * 4}')"
      ],
      "metadata": {
        "colab": {
          "base_uri": "https://localhost:8080/"
        },
        "id": "Le8I7Jaf-E7n",
        "outputId": "bc81bd47-2f27-4381-ea58-31494ce03fa9"
      },
      "execution_count": null,
      "outputs": [
        {
          "output_type": "stream",
          "name": "stdout",
          "text": [
            " r = 4 의 넓이 : 50.26548245743669\n",
            "3.14 곱하기 2 나누기 7의 값 : 1\n",
            "원주율을 3.14로 만들어서 r=4 : 25.12\n"
          ]
        }
      ]
    },
    {
      "cell_type": "code",
      "source": [
        "print(\"%d\" % 123)\n",
        "print(\"%5d\" % 123)\n",
        "print(\"%05d\" % 123)\n",
        "\n",
        "print(\"%f\" % 123.45)\n",
        "print(\"%7.1f\" % 123.45)\n",
        "print(\"%7.3f\" % 123.45)\n",
        "\n",
        "print(\"%s\" % \"python\")\n",
        "print(\"%10s\" % \"python\")\n",
        "\n",
        "\n",
        "\n"
      ],
      "metadata": {
        "colab": {
          "base_uri": "https://localhost:8080/"
        },
        "id": "p1CQ2D7DASjs",
        "outputId": "03284a0b-0657-474a-89bb-ef7235203882"
      },
      "execution_count": null,
      "outputs": [
        {
          "output_type": "stream",
          "name": "stdout",
          "text": [
            "123\n",
            "  123\n",
            "00123\n",
            "123.450000\n",
            "  123.5\n",
            "123.450\n",
            "python\n",
            "    python\n"
          ]
        }
      ]
    },
    {
      "cell_type": "code",
      "source": [
        "a = input(\"정수를 입력하시오 : \")\n",
        "result = f\"{a} + {a*2} + {a*3}\"\n",
        "print(f'{result}')\n"
      ],
      "metadata": {
        "colab": {
          "base_uri": "https://localhost:8080/"
        },
        "id": "VzzEcSAGBmMX",
        "outputId": "0cefccc4-1c5a-410c-c40d-1fe80b098b59"
      },
      "execution_count": null,
      "outputs": [
        {
          "output_type": "stream",
          "name": "stdout",
          "text": [
            "정수를 입력하시오 : 7\n",
            "7 + 77 + 777\n"
          ]
        }
      ]
    },
    {
      "cell_type": "code",
      "source": [
        "print(\"%d %5d %05d\" %(123, 123, 123))\n",
        "print(\"{0:d} {1:5d} {2:05d}\".format(123, 123, 123))\n",
        "\n",
        "print(\"{2:d} {1:d} {0:d}\" .format(100, 200, 300))\n",
        "\n",
        "print(f'{123}, {123:>5}, {123:0>5}')"
      ],
      "metadata": {
        "colab": {
          "base_uri": "https://localhost:8080/"
        },
        "id": "27LK4B7WCx2y",
        "outputId": "2e371fd6-8316-4567-fb54-8f34c4b876ed"
      },
      "execution_count": null,
      "outputs": [
        {
          "output_type": "stream",
          "name": "stdout",
          "text": [
            "123   123 00123\n",
            "123   123 00123\n",
            "300 200 100\n",
            "123,   123, 00123\n"
          ]
        }
      ]
    },
    {
      "cell_type": "code",
      "source": [
        "name = '홍길동'\n",
        "age = 10\n",
        "height = 110.4\n",
        "f_s1 = f'제 이름은 {name} 나이는 {age} 키는 {height}'\n",
        "print(f_s1)\n",
        "f_s1 = f'제 이름은 {name:10} 나이는 {age:10} 키는 {height:10.3f}'\n"
      ],
      "metadata": {
        "colab": {
          "base_uri": "https://localhost:8080/"
        },
        "id": "cR2gnS3aEk9L",
        "outputId": "404a47eb-d464-4609-c80e-692d7448e4a9"
      },
      "execution_count": null,
      "outputs": [
        {
          "output_type": "stream",
          "name": "stdout",
          "text": [
            "제 이름은 홍길동 나이는 10 키는 110.4\n"
          ]
        }
      ]
    },
    {
      "cell_type": "code",
      "source": [
        "for c in '파이썬':\n",
        "  숫자변환 = ord(c)\n",
        "  이진수변환 = bin(숫자변환)\n",
        "  print(이진수변환, end=' ')\n"
      ],
      "metadata": {
        "colab": {
          "base_uri": "https://localhost:8080/"
        },
        "id": "iodIWT-TFeRl",
        "outputId": "31b891f9-a4eb-4d14-cdc5-0aa96d41a70a"
      },
      "execution_count": null,
      "outputs": [
        {
          "output_type": "stream",
          "name": "stdout",
          "text": [
            "0b1101001100001100 0b1100011101110100 0b1100001101101100 "
          ]
        }
      ]
    },
    {
      "cell_type": "code",
      "source": [
        "for c in '파이썬':\n",
        "  print(format(ord(c), 'b'), end =' ')"
      ],
      "metadata": {
        "colab": {
          "base_uri": "https://localhost:8080/"
        },
        "id": "oII49UH1GTv6",
        "outputId": "6ac06c54-5753-4965-88a1-ec7f9aec41a6"
      },
      "execution_count": null,
      "outputs": [
        {
          "output_type": "stream",
          "name": "stdout",
          "text": [
            "1101001100001100 1100011101110100 1100001101101100 "
          ]
        }
      ]
    },
    {
      "cell_type": "code",
      "source": [
        "# 문제1:화면에 Mary's cosmetics 출력\n",
        "print('Mary\\'s cosmetics')\n",
        "# 문제2:화면에 박씨가 소리질렀다. \"도둑이야!.\" 출력\n",
        "print('박씨가 소리질렀다. \"도둑이야!.\"')\n",
        "# 문제3:다음 코드 실행시켜서 \\t와 \\n의 역할 확인하기\n",
        "print('다음 코드 실행시켜서 \\t와 \\n의 역할 확인하기')"
      ],
      "metadata": {
        "colab": {
          "base_uri": "https://localhost:8080/"
        },
        "id": "ZooviL9RHNpo",
        "outputId": "b97ccdde-4b74-47ee-db33-2dd9bc84dbb3"
      },
      "execution_count": null,
      "outputs": [
        {
          "output_type": "stream",
          "name": "stdout",
          "text": [
            "Mary's cosmetics\n",
            "박씨가 소리질렀다. \"도둑이야!.\"\n",
            "다음 코드 실행시켜서 \t와 \n",
            "의 역할 확인하기\n"
          ]
        }
      ]
    },
    {
      "cell_type": "code",
      "source": [
        "s  = input('문자열을 입력하세요 : ')\n",
        "print(s[::-1])"
      ],
      "metadata": {
        "colab": {
          "base_uri": "https://localhost:8080/"
        },
        "id": "4J8tnhKKJUzS",
        "outputId": "b48f49c8-a57b-496b-f558-4d99ff9675cf"
      },
      "execution_count": null,
      "outputs": [
        {
          "output_type": "stream",
          "name": "stdout",
          "text": [
            "문자열을 입력하세요 : 사랑해요 파이썬\n",
            "썬이파 요해랑사\n"
          ]
        }
      ]
    },
    {
      "cell_type": "code",
      "source": [
        "fname = input('파일을 입력하세요 : ')\n",
        "print(f'입력한 파일: {fname}')\n",
        "a = fname.split('.')\n",
        "print(f'파일명 : {a[0]}, 확장자: {a[1]}')\n"
      ],
      "metadata": {
        "colab": {
          "base_uri": "https://localhost:8080/"
        },
        "id": "GCIcKAEHKl-_",
        "outputId": "bfd868bf-e048-4174-d8f1-8f56ef1a0a6f"
      },
      "execution_count": null,
      "outputs": [
        {
          "output_type": "stream",
          "name": "stdout",
          "text": [
            "파일을 입력하세요 : test.py\n",
            "입력한 파일: test.py\n",
            "파일명 : test, 확장자: py\n"
          ]
        }
      ]
    },
    {
      "cell_type": "code",
      "source": [
        "meal = 4450\n",
        "tax = 0.0675\n",
        "tip = 0.15\n",
        "\n",
        "print(f'순수세금 : {meal * tax}')\n",
        "meal = meal + (meal * tax)\n",
        "total = meal + (meal * tip)\n",
        "print(f'팁 금액 :  {meal * tip}')\n",
        "print(f'내가 지불해야 할 총 금액 : {round(total, 2)}')"
      ],
      "metadata": {
        "colab": {
          "base_uri": "https://localhost:8080/"
        },
        "id": "aikCXntaLz5r",
        "outputId": "d00e9615-4ba5-42c0-be4c-5b9288495c4e"
      },
      "execution_count": null,
      "outputs": [
        {
          "output_type": "stream",
          "name": "stdout",
          "text": [
            "순수세금 : 300.375\n",
            "팁 금액 :  712.55625\n",
            "내가 지불해야 할 총 금액 : 5462.93\n"
          ]
        }
      ]
    },
    {
      "cell_type": "code",
      "source": [
        "c_temp = float(input('온도를 입력해 주세요(화씨) : '))   #키보드로부터 입력을 받는 함수: input()\n",
        "t_temp =  (9 / 5) * c_temp + 32\n",
        "\n",
        "print(f'화씨 온도 {c_temp} ℃를 섭씨 온도로 변환하면 {t_temp}℉!' )\n",
        "\n"
      ],
      "metadata": {
        "colab": {
          "base_uri": "https://localhost:8080/"
        },
        "id": "RAGHxXbZN7zw",
        "outputId": "b1aba4b5-6823-44d1-e964-d69f0c60b967"
      },
      "execution_count": null,
      "outputs": [
        {
          "output_type": "stream",
          "name": "stdout",
          "text": [
            "온도를 입력해 주세요(화씨) : 35.5\n",
            "화씨 온도 35.5 ℃를 섭씨 온도로 변환하면 95.9℉!\n"
          ]
        }
      ]
    },
    {
      "cell_type": "code",
      "source": [
        "import random\n",
        "a, b = 0, 0\n",
        "for i in range(1,10):\n",
        "  a =random.randint(1,10)\n",
        "  b =random.randint(1,10)\n",
        "print(f'{a} + {b} = {a + b}')"
      ],
      "metadata": {
        "colab": {
          "base_uri": "https://localhost:8080/"
        },
        "id": "Hr56PsW0iDce",
        "outputId": "c16c7585-9ad6-40fb-a615-e079d80f0f42"
      },
      "execution_count": 4,
      "outputs": [
        {
          "output_type": "stream",
          "name": "stdout",
          "text": [
            "9 + 10 = 19\n"
          ]
        }
      ]
    },
    {
      "cell_type": "code",
      "source": [
        "import random\n",
        "dice = [0,0,0,0,0,0]\n",
        "#rand, cnt, i=0, 0, 0\n",
        "\n",
        "for i in range(100):\n",
        "  x = random.randint(1,6)\n",
        "  dice[x-1] = dice[x-1] + 1\n",
        "\n",
        "print(dice)\n",
        "print(f'가장 많이 나온 숫자 : {dice.index(max(dice))+1}  그 숫자의 횟수 : {max(dice)}')"
      ],
      "metadata": {
        "colab": {
          "base_uri": "https://localhost:8080/"
        },
        "id": "wUDpAC2yjSLW",
        "outputId": "b0416ba6-99c4-4ed4-b7d3-0ba83f11232c"
      },
      "execution_count": 8,
      "outputs": [
        {
          "output_type": "stream",
          "name": "stdout",
          "text": [
            "[15, 18, 14, 16, 22, 15]\n",
            "가장 많이 나온 숫자 : 5  그 숫자의 횟수 : 22\n"
          ]
        }
      ]
    },
    {
      "cell_type": "code",
      "source": [
        "def test03(*args):\n",
        "  print(f'args: {args}')\n",
        "  print(type(args))\n",
        "  for i in range(len(args)):\n",
        "    print(f'{i}: {args[i]}')\n",
        "\n",
        "test03('abc', 'def', 1, True)"
      ],
      "metadata": {
        "colab": {
          "base_uri": "https://localhost:8080/"
        },
        "id": "28-v2fTimeJ-",
        "outputId": "57481bd8-dc4c-4a82-891c-31475e2b09e9"
      },
      "execution_count": 9,
      "outputs": [
        {
          "output_type": "stream",
          "name": "stdout",
          "text": [
            "args: ('abc', 'def', 1, True)\n",
            "<class 'tuple'>\n",
            "0: abc\n",
            "1: def\n",
            "2: 1\n",
            "3: True\n"
          ]
        }
      ]
    },
    {
      "cell_type": "code",
      "source": [
        "def test04(a, *b):\n",
        "  print(f'a: {a} b: {b}')\n",
        "test04(10, 20, 30, 40, 50)"
      ],
      "metadata": {
        "colab": {
          "base_uri": "https://localhost:8080/"
        },
        "id": "17roFZpEnkN4",
        "outputId": "33095d8f-6149-4dae-f68c-4488c8e7ee23"
      },
      "execution_count": 15,
      "outputs": [
        {
          "output_type": "stream",
          "name": "stdout",
          "text": [
            "a: 10 b: (20, 30, 40, 50)\n"
          ]
        }
      ]
    },
    {
      "cell_type": "code",
      "source": [
        "def is_arm(N):\n",
        "  n = str(N)\n",
        "  a = int(n[0])\n",
        "  b = int(n[1])\n",
        "  c = int(n[2])\n",
        "  if N== (a**3 + b**3 + c**3):\n",
        "    return True\n",
        "  else:\n",
        "    return False\n",
        "for i in range(100, 1000):\n",
        "  if is_arm(i):\n",
        "    print(\"[%i] is armstrong number \"%i)\n",
        "\n",
        "\n",
        ""
      ],
      "metadata": {
        "colab": {
          "base_uri": "https://localhost:8080/"
        },
        "id": "lr8PZMqjqzvT",
        "outputId": "bfc9f190-775d-4280-81cf-74d90e016b6e"
      },
      "execution_count": 17,
      "outputs": [
        {
          "output_type": "stream",
          "name": "stdout",
          "text": [
            "[153] is armstrong number \n",
            "[370] is armstrong number \n",
            "[371] is armstrong number \n",
            "[407] is armstrong number \n"
          ]
        }
      ]
    },
    {
      "cell_type": "code",
      "source": [
        "w = {'apple':'사과'}\n",
        "print(type(w))\n",
        "\n",
        "def w_add(eng, mean):\n",
        "  w[eng] = mean\n",
        "  return print(f' 새 단어: {eng} \\n {eng}의 뜻:{w[eng]}')\n",
        "def w_search(eng):\n",
        "  for i in w:\n",
        "    if (i == eng):\n",
        "      print(f'검색할 단어: {eng}\\n {eng}의 뜻 : {w[i]}')\n",
        "    else:\n",
        "      print('미등록 단어')\n",
        "def w_delete(eng):\n",
        "    for i in w:\n",
        "      if i == eng:\n",
        "        print(f'삭제할 단어: {eng}')\n",
        "        del w[i]\n",
        "      else:\n",
        "        print('미등록 단어')\n",
        "    #  print(f'{i}  {w[i]}')\n",
        "    # print(f'삭제할 단어: {eng}')\n",
        "    # print('미등록 단어')\n",
        "def w_show():\n",
        "  for key in w:\n",
        "    print('%s : %s' % (key, w[key]))\n",
        "def quit():\n",
        "  return print('프로그램을 종료합니다.')\n",
        "\n",
        "while True:\n",
        "  print('-------------------선택메뉴-------------------')\n",
        "  print('1. 단어 등록')\n",
        "  print('2. 단어 검색')\n",
        "  print('3. 단어 삭제')\n",
        "  print('4. 단어 단어 보기')\n",
        "  print('0. 종료하기')\n",
        "  print('-'*46)\n",
        "  num = int(input('메뉴를 선택하시오 : '))\n",
        "  if (num == 1):\n",
        "    eng = str(input('영어 : '))\n",
        "    mean = str(input('뜻 : '))\n",
        "    print('-'*46)\n",
        "    w_add(eng, mean)\n",
        "    print(f'{w}, {type(w)}')\n",
        "  elif (num == 2):\n",
        "    eng = str(input('영어 : '))\n",
        "    print('-'*46)\n",
        "    w_search(eng)\n",
        "    print(f'{w}, {type(w)}')\n",
        "  elif (num == 3):\n",
        "    eng = str(input('영어 : '))\n",
        "    print('-'*46)\n",
        "    w_delete(eng)\n",
        "    print(f'{w}, {type(w)}')\n",
        "  elif (num == 4):\n",
        "    print('-'*46)\n",
        "    w_show()\n",
        "  elif (num == 0):\n",
        "    print('-'*46)\n",
        "    quit()\n",
        "    break"
      ],
      "metadata": {
        "colab": {
          "base_uri": "https://localhost:8080/"
        },
        "id": "2JkaMSUteyhc",
        "outputId": "20bff777-948b-4fda-f41c-925bdb038df1"
      },
      "execution_count": 165,
      "outputs": [
        {
          "output_type": "stream",
          "name": "stdout",
          "text": [
            "<class 'dict'>\n",
            "-------------------선택메뉴-------------------\n",
            "1. 단어 등록\n",
            "2. 단어 검색\n",
            "3. 단어 삭제\n",
            "4. 단어 단어 보기\n",
            "0. 종료하기\n",
            "----------------------------------------------\n",
            "메뉴를 선택하시오 : 1\n",
            "영어 : cup\n",
            "뜻 : 컵\n",
            "----------------------------------------------\n",
            " 새 단어: cup \n",
            " cup의 뜻:컵\n",
            "{'apple': '사과', 'cup': '컵'}, <class 'dict'>\n",
            "-------------------선택메뉴-------------------\n",
            "1. 단어 등록\n",
            "2. 단어 검색\n",
            "3. 단어 삭제\n",
            "4. 단어 단어 보기\n",
            "0. 종료하기\n",
            "----------------------------------------------\n",
            "메뉴를 선택하시오 : 2\n",
            "영어 : cup\n",
            "----------------------------------------------\n",
            "미등록 단어\n",
            "검색할 단어: cup\n",
            " cup의 뜻 : 컵\n",
            "{'apple': '사과', 'cup': '컵'}, <class 'dict'>\n",
            "-------------------선택메뉴-------------------\n",
            "1. 단어 등록\n",
            "2. 단어 검색\n",
            "3. 단어 삭제\n",
            "4. 단어 단어 보기\n",
            "0. 종료하기\n",
            "----------------------------------------------\n",
            "메뉴를 선택하시오 : 4\n",
            "----------------------------------------------\n",
            "apple : 사과\n",
            "cup : 컵\n",
            "-------------------선택메뉴-------------------\n",
            "1. 단어 등록\n",
            "2. 단어 검색\n",
            "3. 단어 삭제\n",
            "4. 단어 단어 보기\n",
            "0. 종료하기\n",
            "----------------------------------------------\n",
            "메뉴를 선택하시오 : 1\n",
            "영어 : end\n",
            "뜻 : 끝\n",
            "----------------------------------------------\n",
            " 새 단어: end \n",
            " end의 뜻:끝\n",
            "{'apple': '사과', 'cup': '컵', 'end': '끝'}, <class 'dict'>\n",
            "-------------------선택메뉴-------------------\n",
            "1. 단어 등록\n",
            "2. 단어 검색\n",
            "3. 단어 삭제\n",
            "4. 단어 단어 보기\n",
            "0. 종료하기\n",
            "----------------------------------------------\n",
            "메뉴를 선택하시오 : 4\n",
            "----------------------------------------------\n",
            "apple : 사과\n",
            "cup : 컵\n",
            "end : 끝\n",
            "-------------------선택메뉴-------------------\n",
            "1. 단어 등록\n",
            "2. 단어 검색\n",
            "3. 단어 삭제\n",
            "4. 단어 단어 보기\n",
            "0. 종료하기\n",
            "----------------------------------------------\n",
            "메뉴를 선택하시오 : 0\n",
            "----------------------------------------------\n",
            "프로그램을 종료합니다.\n"
          ]
        }
      ]
    },
    {
      "cell_type": "code",
      "source": [
        "import random\n",
        "print('--------제비 뽑기--------')\n",
        "print('1~10까지 중 숫자를 고르시오')\n",
        "\n",
        "while True:\n",
        "  print('-'*30)\n",
        "  num1 =int(input('숫자를 입력하시오 : '))\n",
        "  print('-'*30)\n",
        "  num2 = random.randint(1,10)\n",
        "  print(f'{num1} {num2}')\n",
        "  if num1 == num2:\n",
        "    print('술래 입니다.')\n",
        "    break\n",
        "  else:\n",
        "    print('술래가 아닙니다.')\n",
        "print('제비 뽑기가 끝났씁니다.')\n",
        ""
      ],
      "metadata": {
        "colab": {
          "base_uri": "https://localhost:8080/"
        },
        "id": "-Y-qBmCe5oSJ",
        "outputId": "363f8105-cf3d-4e2b-aefb-63b145499204"
      },
      "execution_count": 151,
      "outputs": [
        {
          "output_type": "stream",
          "name": "stdout",
          "text": [
            "--------제비 뽑기--------\n",
            "1~10까지 중 숫자를 고르시오\n",
            "------------------------------\n",
            "숫자를 입력하시오 : 1\n",
            "------------------------------\n",
            "1 10\n",
            "술래가 아닙니다.\n",
            "------------------------------\n",
            "숫자를 입력하시오 : 2\n",
            "------------------------------\n",
            "2 4\n",
            "술래가 아닙니다.\n",
            "------------------------------\n",
            "숫자를 입력하시오 : 3\n",
            "------------------------------\n",
            "3 5\n",
            "술래가 아닙니다.\n",
            "------------------------------\n",
            "숫자를 입력하시오 : 4\n",
            "------------------------------\n",
            "4 6\n",
            "술래가 아닙니다.\n",
            "------------------------------\n",
            "숫자를 입력하시오 : 5\n",
            "------------------------------\n",
            "5 5\n",
            "술래 입니다.\n",
            "제비 뽑기가 끝났씁니다.\n"
          ]
        }
      ]
    }
  ]
}